{
 "cells": [
  {
   "cell_type": "code",
   "execution_count": 118,
   "metadata": {
    "deletable": false,
    "editable": false
   },
   "outputs": [
    {
     "name": "stdout",
     "output_type": "stream",
     "text": [
      "=====================================================================\n",
      "Assignment: Project 1: World Progress\n",
      "OK, version v1.12.5\n",
      "=====================================================================\n",
      "\n"
     ]
    }
   ],
   "source": [
    "# Initialize OK\n",
    "from client.api.notebook import Notebook\n",
    "ok = Notebook('project1.ok')"
   ]
  },
  {
   "cell_type": "markdown",
   "metadata": {},
   "source": [
    "## Project 1: World Progress"
   ]
  },
  {
   "cell_type": "markdown",
   "metadata": {},
   "source": [
    "In this project, you'll explore data from [Gapminder.org](http://gapminder.org), a website dedicated to providing a fact-based view of the world and how it has changed. That site includes several data visualizations and presentations, but also publishes the raw data that we will use in this project to recreate and extend some of their most famous visualizations.\n",
    "\n",
    "The Gapminder website collects data from many sources and compiles them into tables that describe many countries around the world. All of the data they aggregate are published in the [Systema Globalis](https://github.com/open-numbers/ddf--gapminder--systema_globalis/blob/master/README.md). Their goal is \"to compile all public statistics; Social, Economic and Environmental; into a comparable total dataset.\" All data sets in this project are copied directly from the Systema Globalis without any changes.\n",
    "\n",
    "This project is dedicated to [Hans Rosling](https://en.wikipedia.org/wiki/Hans_Rosling) (1948-2017), who championed the use of data to understand and prioritize global development challenges."
   ]
  },
  {
   "cell_type": "markdown",
   "metadata": {},
   "source": [
    "### Logistics\n",
    "\n",
    "**Deadline.** This project is due at 11:59pm on Friday 10/4. Projects will be accepted up to 2 days (48 hours) late; a project submitted less than 24 hours after the deadline will receive 2/3 credit, a project submitted between 24 and 48 hours after the deadline will receive 1/3 credit, and a project submitted 48 hours or more after the deadline will receive no credit. It's **much** better to be early than late, so start working now.\n",
    "\n",
    "**Checkpoint.** For full credit, you must also complete the first 8 questions, pass all public autograder tests, and submit to okpy by 11:59pm on Friday 9/27. After you've submitted the checkpoint, you may still change your answers before the project deadline - only your final submission will be graded for correctness. You will have some lab time to work on these questions, but we recommend that you start the project before lab and leave time to finish the checkpoint afterward.\n",
    "\n",
    "**Partners.** You may work with one other partner; your partner must be from your assigned lab section. Only one of you is required to submit the project. On [okpy.org](http://okpy.org), the person who submits should also designate their partner so that both of you receive credit.\n",
    "\n",
    "**Rules.** Don't share your code with anybody but your partner. You are welcome to discuss questions with other students, but don't share the answers. The experience of solving the problems in this project will prepare you for exams (and life). If someone asks you for the answer, resist! Instead, you can demonstrate how you would solve a similar problem.\n",
    "\n",
    "**Support.** You are not alone! Come to office hours, post on Piazza, and talk to your classmates. If you want to ask about the details of your solution to a problem, make a private Piazza post and the staff will respond. If you're ever feeling overwhelmed or don't know how to make progress, email your TA or tutor for help. You can find contact information for the staff on the [course website](http://data8.org/fa19/staff.html).\n",
    "\n",
    "**Tests.** The tests that are given are **not comprehensive** and passing the tests for a question **does not** mean that you answered the question correctly. Tests usually only check that your table has the correct column labels. However, more tests will be applied to verify the correctness of your submission in order to assign your final score, so be careful and check your work! You might want to create your own checks along the way to see if your answers make sense. Additionally, before you submit, make sure that none of your cells take a very long time to run (several minutes).\n",
    "\n",
    "**Free Response Questions:** Make sure that you put the answers to the written questions in the indicated cell we provide. Check to make sure that you have a [Gradescope](http://gradescope.com) account, which is where the scores to the free response questions will be posted. If you do not, make sure to reach out to your assigned (u)GSI.\n",
    "\n",
    "**Advice.** Develop your answers incrementally. To perform a complicated table manipulation, break it up into steps, perform each step on a different line, give a new name to each result, and check that each intermediate result is what you expect. You can add any additional names or functions you want to the provided cells. Make sure that you are using distinct and meaningful variable names throughout the notebook. Along that line, **DO NOT** reuse the variable names that we use when we grade your answers. For example, in Question 1 of the Global Poverty section, we ask you to assign an answer to `latest`. Do not reassign the variable name `latest` to anything else in your notebook, otherwise there is the chance that our tests grade against what `latest` was reassigned to.\n",
    "\n",
    "You **never** have to use just one line in this project or any others. Use intermediate variables and multiple lines as much as you would like!  \n",
    "\n",
    "To get started, load `datascience`, `numpy`, `plots`, and `ok`."
   ]
  },
  {
   "cell_type": "code",
   "execution_count": 119,
   "metadata": {},
   "outputs": [
    {
     "name": "stdout",
     "output_type": "stream",
     "text": [
      "=====================================================================\n",
      "Assignment: Project 1: World Progress\n",
      "OK, version v1.12.5\n",
      "=====================================================================\n",
      "\n"
     ]
    }
   ],
   "source": [
    "from datascience import *\n",
    "import numpy as np\n",
    "\n",
    "%matplotlib inline\n",
    "import matplotlib.pyplot as plots\n",
    "plots.style.use('fivethirtyeight')\n",
    "\n",
    "from client.api.notebook import Notebook\n",
    "ok = Notebook('project1.ok')"
   ]
  },
  {
   "cell_type": "markdown",
   "metadata": {},
   "source": [
    "Before continuing the assignment, select \"Save and Checkpoint\" in the File menu and then execute the submit cell below. The result will contain a link that you can use to check that your assignment has been submitted successfully. If you submit more than once before the deadline, we will only grade your final submission. If you mistakenly submit the wrong one, you can head to okpy.org and flag the correct version. There will be another submit cell at the end of the assignment when you finish!"
   ]
  },
  {
   "cell_type": "code",
   "execution_count": null,
   "metadata": {},
   "outputs": [],
   "source": [
    "_ = ok.submit()"
   ]
  },
  {
   "cell_type": "markdown",
   "metadata": {
    "deletable": false,
    "editable": false
   },
   "source": [
    "## 1. Global Population Growth\n"
   ]
  },
  {
   "cell_type": "markdown",
   "metadata": {
    "deletable": false,
    "editable": false
   },
   "source": [
    "The global population of humans reached 1 billion around 1800, 3 billion around 1960, and 7 billion around 2011. The potential impact of exponential population growth has concerned scientists, economists, and politicians alike.\n",
    "\n",
    "The UN Population Division estimates that the world population will likely continue to grow throughout the 21st century, but at a slower rate, perhaps reaching 11 billion by 2100. However, the UN does not rule out scenarios of more extreme growth.\n",
    "\n",
    "<a href=\"http://www.pewresearch.org/fact-tank/2015/06/08/scientists-more-worried-than-public-about-worlds-growing-population/ft_15-06-04_popcount/\"> \n",
    " <img src=\"pew_population_projection.png\"/> \n",
    "</a>\n",
    "\n",
    "In this section, we will examine some of the factors that influence population growth and how they are changing around the world.\n",
    "\n",
    "The first table we will consider is the total population of each country over time. Run the cell below."
   ]
  },
  {
   "cell_type": "code",
   "execution_count": 120,
   "metadata": {
    "deletable": false,
    "editable": false
   },
   "outputs": [
    {
     "data": {
      "text/html": [
       "<table border=\"1\" class=\"dataframe\">\n",
       "    <thead>\n",
       "        <tr>\n",
       "            <th>geo</th> <th>time</th> <th>population_total</th>\n",
       "        </tr>\n",
       "    </thead>\n",
       "    <tbody>\n",
       "        <tr>\n",
       "            <td>abw </td> <td>1800</td> <td>19286           </td>\n",
       "        </tr>\n",
       "        <tr>\n",
       "            <td>abw </td> <td>1801</td> <td>19286           </td>\n",
       "        </tr>\n",
       "        <tr>\n",
       "            <td>abw </td> <td>1802</td> <td>19286           </td>\n",
       "        </tr>\n",
       "    </tbody>\n",
       "</table>\n",
       "<p>... (87792 rows omitted)</p>"
      ],
      "text/plain": [
       "<IPython.core.display.HTML object>"
      ]
     },
     "metadata": {},
     "output_type": "display_data"
    }
   ],
   "source": [
    "population = Table.read_table('population.csv')\n",
    "population.show(3)"
   ]
  },
  {
   "cell_type": "markdown",
   "metadata": {},
   "source": [
    "**Note:** The population csv file can also be found [here](https://github.com/open-numbers/ddf--gapminder--systema_globalis/raw/master/ddf--datapoints--population_total--by--geo--time.csv). The data for this project was downloaded in February 2017."
   ]
  },
  {
   "cell_type": "markdown",
   "metadata": {
    "deletable": false,
    "editable": false
   },
   "source": [
    "### Bangladesh\n",
    "\n",
    "In the `population` table, the `geo` column contains three-letter codes established by the [International Organization for Standardization](https://en.wikipedia.org/wiki/International_Organization_for_Standardization) (ISO) in the [Alpha-3](https://en.wikipedia.org/wiki/ISO_3166-1_alpha-3#Current_codes) standard. We will begin by taking a close look at Bangladesh. Inspect the standard to find the 3-letter code for Bangladesh."
   ]
  },
  {
   "cell_type": "markdown",
   "metadata": {
    "deletable": false,
    "editable": false
   },
   "source": [
    "**Question 1.** Create a table called `b_pop` that has two columns labeled `time` and `population_total`. The first column should contain the years from 1970 through 2015 (including both 1970 and 2015) and the second should contain the population of Bangladesh in each of those years.\n",
    "\n",
    "<!--\n",
    "BEGIN QUESTION\n",
    "name: q1_1\n",
    "-->"
   ]
  },
  {
   "cell_type": "code",
   "execution_count": 121,
   "metadata": {
    "deletable": false
   },
   "outputs": [
    {
     "data": {
      "text/html": [
       "<table border=\"1\" class=\"dataframe\">\n",
       "    <thead>\n",
       "        <tr>\n",
       "            <th>time</th> <th>population_total</th>\n",
       "        </tr>\n",
       "    </thead>\n",
       "    <tbody>\n",
       "        <tr>\n",
       "            <td>1970</td> <td>65048701        </td>\n",
       "        </tr>\n",
       "        <tr>\n",
       "            <td>1971</td> <td>66417450        </td>\n",
       "        </tr>\n",
       "        <tr>\n",
       "            <td>1972</td> <td>67578486        </td>\n",
       "        </tr>\n",
       "        <tr>\n",
       "            <td>1973</td> <td>68658472        </td>\n",
       "        </tr>\n",
       "        <tr>\n",
       "            <td>1974</td> <td>69837960        </td>\n",
       "        </tr>\n",
       "        <tr>\n",
       "            <td>1975</td> <td>71247153        </td>\n",
       "        </tr>\n",
       "        <tr>\n",
       "            <td>1976</td> <td>72930206        </td>\n",
       "        </tr>\n",
       "        <tr>\n",
       "            <td>1977</td> <td>74848466        </td>\n",
       "        </tr>\n",
       "        <tr>\n",
       "            <td>1978</td> <td>76948378        </td>\n",
       "        </tr>\n",
       "        <tr>\n",
       "            <td>1979</td> <td>79141947        </td>\n",
       "        </tr>\n",
       "    </tbody>\n",
       "</table>\n",
       "<p>... (36 rows omitted)</p>"
      ],
      "text/plain": [
       "time | population_total\n",
       "1970 | 65048701\n",
       "1971 | 66417450\n",
       "1972 | 67578486\n",
       "1973 | 68658472\n",
       "1974 | 69837960\n",
       "1975 | 71247153\n",
       "1976 | 72930206\n",
       "1977 | 74848466\n",
       "1978 | 76948378\n",
       "1979 | 79141947\n",
       "... (36 rows omitted)"
      ]
     },
     "execution_count": 121,
     "metadata": {},
     "output_type": "execute_result"
    }
   ],
   "source": [
    "b_pop = population.where('geo', are.equal_to('bgd')).drop('geo').where('time', are.between(1970,2016))\n",
    "b_pop"
   ]
  },
  {
   "cell_type": "code",
   "execution_count": 122,
   "metadata": {
    "deletable": false,
    "editable": false
   },
   "outputs": [
    {
     "name": "stdout",
     "output_type": "stream",
     "text": [
      "~~~~~~~~~~~~~~~~~~~~~~~~~~~~~~~~~~~~~~~~~~~~~~~~~~~~~~~~~~~~~~~~~~~~~\n",
      "Running tests\n",
      "\n",
      "---------------------------------------------------------------------\n",
      "Test summary\n",
      "    Passed: 2\n",
      "    Failed: 0\n",
      "[ooooooooook] 100.0% passed\n",
      "\n"
     ]
    }
   ],
   "source": [
    "ok.grade(\"q1_1\");"
   ]
  },
  {
   "cell_type": "markdown",
   "metadata": {
    "deletable": false,
    "editable": false
   },
   "source": [
    "Run the following cell to create a table called `b_five` that has the population of Bangladesh every five years. At a glance, it appears that the population of Bangladesh has been growing quickly indeed!"
   ]
  },
  {
   "cell_type": "code",
   "execution_count": 123,
   "metadata": {
    "deletable": false,
    "editable": false
   },
   "outputs": [
    {
     "data": {
      "text/html": [
       "<table border=\"1\" class=\"dataframe\">\n",
       "    <thead>\n",
       "        <tr>\n",
       "            <th>time</th> <th>population_total</th>\n",
       "        </tr>\n",
       "    </thead>\n",
       "    <tbody>\n",
       "        <tr>\n",
       "            <td>1970</td> <td>65,048,701      </td>\n",
       "        </tr>\n",
       "        <tr>\n",
       "            <td>1975</td> <td>71,247,153      </td>\n",
       "        </tr>\n",
       "        <tr>\n",
       "            <td>1980</td> <td>81,364,176      </td>\n",
       "        </tr>\n",
       "        <tr>\n",
       "            <td>1985</td> <td>93,015,182      </td>\n",
       "        </tr>\n",
       "        <tr>\n",
       "            <td>1990</td> <td>105,983,136     </td>\n",
       "        </tr>\n",
       "        <tr>\n",
       "            <td>1995</td> <td>118,427,768     </td>\n",
       "        </tr>\n",
       "        <tr>\n",
       "            <td>2000</td> <td>131,280,739     </td>\n",
       "        </tr>\n",
       "        <tr>\n",
       "            <td>2005</td> <td>142,929,979     </td>\n",
       "        </tr>\n",
       "        <tr>\n",
       "            <td>2010</td> <td>151,616,777     </td>\n",
       "        </tr>\n",
       "        <tr>\n",
       "            <td>2015</td> <td>160,995,642     </td>\n",
       "        </tr>\n",
       "    </tbody>\n",
       "</table>"
      ],
      "text/plain": [
       "time | population_total\n",
       "1970 | 65,048,701\n",
       "1975 | 71,247,153\n",
       "1980 | 81,364,176\n",
       "1985 | 93,015,182\n",
       "1990 | 105,983,136\n",
       "1995 | 118,427,768\n",
       "2000 | 131,280,739\n",
       "2005 | 142,929,979\n",
       "2010 | 151,616,777\n",
       "2015 | 160,995,642"
      ]
     },
     "execution_count": 123,
     "metadata": {},
     "output_type": "execute_result"
    }
   ],
   "source": [
    "b_pop.set_format('population_total', NumberFormatter)\n",
    "\n",
    "fives = np.arange(1970, 2016, 5) # 1970, 1975, 1980, ...\n",
    "b_five = b_pop.sort('time').where('time', are.contained_in(fives))\n",
    "b_five"
   ]
  },
  {
   "cell_type": "markdown",
   "metadata": {
    "deletable": false,
    "editable": false
   },
   "source": [
    "**Question 2.** Assign `initial` to an array that contains the population for every five year interval from 1970 to 2010. Then, assign `changed` to an array that contains the population for every five year interval from 1975 to 2015. You should use the `b_five` table to create both arrays, first filtering the table to only contain the relevant years.\n",
    "\n",
    "We have provided the code below that uses  `initial` and `changed` in order to add a column to `b_five` called `annual_growth`. Don't worry about the calculation of the growth rates; run the test below to test your solution.\n",
    "\n",
    "If you are interested in how we came up with the formula for growth rates, consult the [growth rates](https://www.inferentialthinking.com/chapters/03/2/1/growth) section of the textbook.\n",
    "\n",
    "<!--\n",
    "BEGIN QUESTION\n",
    "name: q1_2\n",
    "-->"
   ]
  },
  {
   "cell_type": "code",
   "execution_count": 124,
   "metadata": {
    "deletable": false
   },
   "outputs": [
    {
     "data": {
      "text/html": [
       "<table border=\"1\" class=\"dataframe\">\n",
       "    <thead>\n",
       "        <tr>\n",
       "            <th>time</th> <th>population_total</th> <th>annual_growth</th>\n",
       "        </tr>\n",
       "    </thead>\n",
       "    <tbody>\n",
       "        <tr>\n",
       "            <td>1970</td> <td>65,048,701      </td> <td>1.84%        </td>\n",
       "        </tr>\n",
       "        <tr>\n",
       "            <td>1975</td> <td>71,247,153      </td> <td>2.69%        </td>\n",
       "        </tr>\n",
       "        <tr>\n",
       "            <td>1980</td> <td>81,364,176      </td> <td>2.71%        </td>\n",
       "        </tr>\n",
       "        <tr>\n",
       "            <td>1985</td> <td>93,015,182      </td> <td>2.64%        </td>\n",
       "        </tr>\n",
       "        <tr>\n",
       "            <td>1990</td> <td>105,983,136     </td> <td>2.25%        </td>\n",
       "        </tr>\n",
       "        <tr>\n",
       "            <td>1995</td> <td>118,427,768     </td> <td>2.08%        </td>\n",
       "        </tr>\n",
       "        <tr>\n",
       "            <td>2000</td> <td>131,280,739     </td> <td>1.71%        </td>\n",
       "        </tr>\n",
       "        <tr>\n",
       "            <td>2005</td> <td>142,929,979     </td> <td>1.19%        </td>\n",
       "        </tr>\n",
       "        <tr>\n",
       "            <td>2010</td> <td>151,616,777     </td> <td>1.21%        </td>\n",
       "        </tr>\n",
       "    </tbody>\n",
       "</table>"
      ],
      "text/plain": [
       "time | population_total | annual_growth\n",
       "1970 | 65,048,701       | 1.84%\n",
       "1975 | 71,247,153       | 2.69%\n",
       "1980 | 81,364,176       | 2.71%\n",
       "1985 | 93,015,182       | 2.64%\n",
       "1990 | 105,983,136      | 2.25%\n",
       "1995 | 118,427,768      | 2.08%\n",
       "2000 | 131,280,739      | 1.71%\n",
       "2005 | 142,929,979      | 1.19%\n",
       "2010 | 151,616,777      | 1.21%"
      ]
     },
     "execution_count": 124,
     "metadata": {},
     "output_type": "execute_result"
    }
   ],
   "source": [
    "initial = b_five.where('time', are.between(1970,2011)).column('population_total')\n",
    "changed = b_five.where('time', are.between(1975,2016)).column('population_total')\n",
    "\n",
    "b_1970_through_2010 = b_five.where('time', are.below_or_equal_to(2010)) \n",
    "b_five_growth = b_1970_through_2010.with_column('annual_growth', (changed/initial)**0.2-1)\n",
    "b_five_growth.set_format('annual_growth', PercentFormatter)"
   ]
  },
  {
   "cell_type": "code",
   "execution_count": 125,
   "metadata": {
    "deletable": false,
    "editable": false
   },
   "outputs": [
    {
     "name": "stdout",
     "output_type": "stream",
     "text": [
      "~~~~~~~~~~~~~~~~~~~~~~~~~~~~~~~~~~~~~~~~~~~~~~~~~~~~~~~~~~~~~~~~~~~~~\n",
      "Running tests\n",
      "\n",
      "---------------------------------------------------------------------\n",
      "Test summary\n",
      "    Passed: 2\n",
      "    Failed: 0\n",
      "[ooooooooook] 100.0% passed\n",
      "\n"
     ]
    }
   ],
   "source": [
    "ok.grade(\"q1_2\");"
   ]
  },
  {
   "cell_type": "markdown",
   "metadata": {
    "deletable": false,
    "editable": false
   },
   "source": [
    "While the population has grown every five years since 1970, the annual growth rate decreased dramatically from 1985 to 2005. Let's look at some other information in order to develop a possible explanation. Run the next cell to load three additional tables of measurements about countries over time."
   ]
  },
  {
   "cell_type": "code",
   "execution_count": 126,
   "metadata": {
    "deletable": false,
    "editable": false
   },
   "outputs": [],
   "source": [
    "life_expectancy = Table.read_table('life_expectancy.csv')\n",
    "child_mortality = Table.read_table('child_mortality.csv').relabel(2, 'child_mortality_under_5_per_1000_born')\n",
    "fertility = Table.read_table('fertility.csv')"
   ]
  },
  {
   "cell_type": "markdown",
   "metadata": {
    "deletable": false,
    "editable": false
   },
   "source": [
    "The `life_expectancy` table contains a statistic that is often used to measure how long people live, called *life expectancy at birth*. This number, for a country in a given year, [does not measure how long babies born in that year are expected to live](http://blogs.worldbank.org/opendata/what-does-life-expectancy-birth-really-mean). Instead, it measures how long someone would live, on average, if the *mortality conditions* in that year persisted throughout their lifetime. These \"mortality conditions\" describe what fraction of people at each age survived the year. So, it is a way of measuring the proportion of people that are staying alive, aggregated over different age groups in the population."
   ]
  },
  {
   "cell_type": "markdown",
   "metadata": {},
   "source": [
    "Run the following cells below to see `life_expectancy`, `child_mortality`, and `fertility`. Refer back to these tables as they will be helpful for answering further questions!"
   ]
  },
  {
   "cell_type": "code",
   "execution_count": 127,
   "metadata": {},
   "outputs": [
    {
     "data": {
      "text/html": [
       "<table border=\"1\" class=\"dataframe\">\n",
       "    <thead>\n",
       "        <tr>\n",
       "            <th>geo</th> <th>time</th> <th>life_expectancy_years</th>\n",
       "        </tr>\n",
       "    </thead>\n",
       "    <tbody>\n",
       "        <tr>\n",
       "            <td>afg </td> <td>1800</td> <td>28.21                </td>\n",
       "        </tr>\n",
       "        <tr>\n",
       "            <td>afg </td> <td>1801</td> <td>28.2                 </td>\n",
       "        </tr>\n",
       "        <tr>\n",
       "            <td>afg </td> <td>1802</td> <td>28.19                </td>\n",
       "        </tr>\n",
       "        <tr>\n",
       "            <td>afg </td> <td>1803</td> <td>28.18                </td>\n",
       "        </tr>\n",
       "        <tr>\n",
       "            <td>afg </td> <td>1804</td> <td>28.17                </td>\n",
       "        </tr>\n",
       "        <tr>\n",
       "            <td>afg </td> <td>1805</td> <td>28.16                </td>\n",
       "        </tr>\n",
       "        <tr>\n",
       "            <td>afg </td> <td>1806</td> <td>28.15                </td>\n",
       "        </tr>\n",
       "        <tr>\n",
       "            <td>afg </td> <td>1807</td> <td>28.14                </td>\n",
       "        </tr>\n",
       "        <tr>\n",
       "            <td>afg </td> <td>1808</td> <td>28.13                </td>\n",
       "        </tr>\n",
       "        <tr>\n",
       "            <td>afg </td> <td>1809</td> <td>28.12                </td>\n",
       "        </tr>\n",
       "    </tbody>\n",
       "</table>\n",
       "<p>... (43847 rows omitted)</p>"
      ],
      "text/plain": [
       "geo  | time | life_expectancy_years\n",
       "afg  | 1800 | 28.21\n",
       "afg  | 1801 | 28.2\n",
       "afg  | 1802 | 28.19\n",
       "afg  | 1803 | 28.18\n",
       "afg  | 1804 | 28.17\n",
       "afg  | 1805 | 28.16\n",
       "afg  | 1806 | 28.15\n",
       "afg  | 1807 | 28.14\n",
       "afg  | 1808 | 28.13\n",
       "afg  | 1809 | 28.12\n",
       "... (43847 rows omitted)"
      ]
     },
     "execution_count": 127,
     "metadata": {},
     "output_type": "execute_result"
    }
   ],
   "source": [
    "life_expectancy"
   ]
  },
  {
   "cell_type": "code",
   "execution_count": 128,
   "metadata": {},
   "outputs": [
    {
     "data": {
      "text/html": [
       "<table border=\"1\" class=\"dataframe\">\n",
       "    <thead>\n",
       "        <tr>\n",
       "            <th>geo</th> <th>time</th> <th>child_mortality_under_5_per_1000_born</th>\n",
       "        </tr>\n",
       "    </thead>\n",
       "    <tbody>\n",
       "        <tr>\n",
       "            <td>afg </td> <td>1800</td> <td>468.6                                </td>\n",
       "        </tr>\n",
       "        <tr>\n",
       "            <td>afg </td> <td>1801</td> <td>468.6                                </td>\n",
       "        </tr>\n",
       "        <tr>\n",
       "            <td>afg </td> <td>1802</td> <td>468.6                                </td>\n",
       "        </tr>\n",
       "        <tr>\n",
       "            <td>afg </td> <td>1803</td> <td>468.6                                </td>\n",
       "        </tr>\n",
       "        <tr>\n",
       "            <td>afg </td> <td>1804</td> <td>468.6                                </td>\n",
       "        </tr>\n",
       "        <tr>\n",
       "            <td>afg </td> <td>1805</td> <td>468.6                                </td>\n",
       "        </tr>\n",
       "        <tr>\n",
       "            <td>afg </td> <td>1806</td> <td>470                                  </td>\n",
       "        </tr>\n",
       "        <tr>\n",
       "            <td>afg </td> <td>1807</td> <td>470                                  </td>\n",
       "        </tr>\n",
       "        <tr>\n",
       "            <td>afg </td> <td>1808</td> <td>470                                  </td>\n",
       "        </tr>\n",
       "        <tr>\n",
       "            <td>afg </td> <td>1809</td> <td>470                                  </td>\n",
       "        </tr>\n",
       "    </tbody>\n",
       "</table>\n",
       "<p>... (40746 rows omitted)</p>"
      ],
      "text/plain": [
       "geo  | time | child_mortality_under_5_per_1000_born\n",
       "afg  | 1800 | 468.6\n",
       "afg  | 1801 | 468.6\n",
       "afg  | 1802 | 468.6\n",
       "afg  | 1803 | 468.6\n",
       "afg  | 1804 | 468.6\n",
       "afg  | 1805 | 468.6\n",
       "afg  | 1806 | 470\n",
       "afg  | 1807 | 470\n",
       "afg  | 1808 | 470\n",
       "afg  | 1809 | 470\n",
       "... (40746 rows omitted)"
      ]
     },
     "execution_count": 128,
     "metadata": {},
     "output_type": "execute_result"
    }
   ],
   "source": [
    "child_mortality"
   ]
  },
  {
   "cell_type": "code",
   "execution_count": 129,
   "metadata": {},
   "outputs": [
    {
     "data": {
      "text/html": [
       "<table border=\"1\" class=\"dataframe\">\n",
       "    <thead>\n",
       "        <tr>\n",
       "            <th>geo</th> <th>time</th> <th>children_per_woman_total_fertility</th>\n",
       "        </tr>\n",
       "    </thead>\n",
       "    <tbody>\n",
       "        <tr>\n",
       "            <td>afg </td> <td>1800</td> <td>7                                 </td>\n",
       "        </tr>\n",
       "        <tr>\n",
       "            <td>afg </td> <td>1801</td> <td>7                                 </td>\n",
       "        </tr>\n",
       "        <tr>\n",
       "            <td>afg </td> <td>1802</td> <td>7                                 </td>\n",
       "        </tr>\n",
       "        <tr>\n",
       "            <td>afg </td> <td>1803</td> <td>7                                 </td>\n",
       "        </tr>\n",
       "        <tr>\n",
       "            <td>afg </td> <td>1804</td> <td>7                                 </td>\n",
       "        </tr>\n",
       "        <tr>\n",
       "            <td>afg </td> <td>1805</td> <td>7                                 </td>\n",
       "        </tr>\n",
       "        <tr>\n",
       "            <td>afg </td> <td>1806</td> <td>7                                 </td>\n",
       "        </tr>\n",
       "        <tr>\n",
       "            <td>afg </td> <td>1807</td> <td>7                                 </td>\n",
       "        </tr>\n",
       "        <tr>\n",
       "            <td>afg </td> <td>1808</td> <td>7                                 </td>\n",
       "        </tr>\n",
       "        <tr>\n",
       "            <td>afg </td> <td>1809</td> <td>7                                 </td>\n",
       "        </tr>\n",
       "    </tbody>\n",
       "</table>\n",
       "<p>... (43402 rows omitted)</p>"
      ],
      "text/plain": [
       "geo  | time | children_per_woman_total_fertility\n",
       "afg  | 1800 | 7\n",
       "afg  | 1801 | 7\n",
       "afg  | 1802 | 7\n",
       "afg  | 1803 | 7\n",
       "afg  | 1804 | 7\n",
       "afg  | 1805 | 7\n",
       "afg  | 1806 | 7\n",
       "afg  | 1807 | 7\n",
       "afg  | 1808 | 7\n",
       "afg  | 1809 | 7\n",
       "... (43402 rows omitted)"
      ]
     },
     "execution_count": 129,
     "metadata": {},
     "output_type": "execute_result"
    }
   ],
   "source": [
    "fertility"
   ]
  },
  {
   "cell_type": "markdown",
   "metadata": {
    "deletable": false,
    "editable": false
   },
   "source": [
    "**Question 3.** Perhaps population is growing more slowly because people aren't living as long. Use the `life_expectancy` table to draw a line graph with the years 1970 and later on the horizontal axis that shows how the *life expectancy at birth* has changed in Bangladesh.\n",
    "\n",
    "<!--\n",
    "BEGIN QUESTION\n",
    "name: q1_3\n",
    "manual: true\n",
    "-->\n",
    "<!-- EXPORT TO PDF -->"
   ]
  },
  {
   "cell_type": "code",
   "execution_count": 130,
   "metadata": {
    "deletable": false,
    "export_pdf": true,
    "manual_grade": true,
    "manual_problem_id": "global_pop_3"
   },
   "outputs": [
    {
     "data": {
      "image/png": "[encoded data removed]",
      "text/plain": [
       "<Figure size 432x288 with 1 Axes>"
      ]
     },
     "metadata": {},
     "output_type": "display_data"
    }
   ],
   "source": [
    "#Fill in code here\n",
    "life_expectancy_after_1970 = life_expectancy.where('geo', are.equal_to('bgd')).where('time', are.above(1970))\n",
    "life_expectancy_after_1970.plot('time','life_expectancy_years')"
   ]
  },
  {
   "cell_type": "markdown",
   "metadata": {
    "deletable": false,
    "editable": false
   },
   "source": [
    "**Question 4.** Assuming everything else stays the same, do the trends in life expectancy in the graph above directly explain why the population growth rate decreased from 1985 to 2010 in Bangladesh? Why or why not? \n",
    "\n",
    "Hint: What happened in Bangladesh in 1991, and does that event explain the overall change in population growth rate?\n",
    "\n",
    "<!--\n",
    "BEGIN QUESTION\n",
    "name: q1_4\n",
    "manual: true\n",
    "-->\n",
    "<!-- EXPORT TO PDF -->"
   ]
  },
  {
   "cell_type": "markdown",
   "metadata": {
    "collapsed": true,
    "deletable": false,
    "export_pdf": true,
    "manual_grade": true,
    "manual_problem_id": "global_pop_4"
   },
   "source": [
    "***No, the trends in life expectancy do not directly explain why the population growth rate decreased during this time period because the general trend is increasing life expectancy given that life expectancy increased from around 55 to over 70 between 1985-2010--the opposite of the decrease we would expect. When we have the added information that there was a cyclone in 1991 that killed hundreds of thousands of people, that accounts for the dip in life expectancy in 1991 and would explain the overall change in population growth rate since deaths offset the growth from births.***"
   ]
  },
  {
   "cell_type": "markdown",
   "metadata": {
    "deletable": false,
    "editable": false
   },
   "source": [
    "The `fertility` table contains a statistic that is often used to measure how many babies are being born, the *total fertility rate*. This number describes the [number of children a woman would have in her lifetime](https://www.measureevaluation.org/prh/rh_indicators/specific/fertility/total-fertility-rate), on average, if the current rates of birth by age of the mother persisted throughout her child bearing years, assuming she survived through age 49. "
   ]
  },
  {
   "cell_type": "markdown",
   "metadata": {
    "deletable": false,
    "editable": false
   },
   "source": [
    "**Question 5.** Write a function `fertility_over_time` that takes the Alpha-3 code of a `country` and a `start` year. It returns a two-column table with labels `Year` and `Children per woman` that can be used to generate a line chart of the country's fertility rate each year, starting at the `start` year. The plot should include the `start` year and all later years that appear in the `fertility` table. \n",
    "\n",
    "Then, in the next cell, call your `fertility_over_time` function on the Alpha-3 code for Bangladesh and the year 1970 in order to plot how Bangladesh's fertility rate has changed since 1970. Note that the function `fertility_over_time` should not return the plot itself. **The expression that draws the line plot is provided for you; please don't change it.**\n",
    "\n",
    "<!--\n",
    "BEGIN QUESTION\n",
    "name: q1_5\n",
    "-->"
   ]
  },
  {
   "cell_type": "code",
   "execution_count": 131,
   "metadata": {
    "deletable": false
   },
   "outputs": [
    {
     "data": {
      "image/png": "[encoded data removed]",
      "text/plain": [
       "<Figure size 432x288 with 1 Axes>"
      ]
     },
     "metadata": {},
     "output_type": "display_data"
    }
   ],
   "source": [
    "def fertility_over_time(country, start):\n",
    "    \"\"\"Create a two-column table that describes a country's total fertility rate each year.\"\"\"\n",
    "    country_fertility = fertility.where('geo',are.equal_to(country))\n",
    "    country_fertility_after_start = country_fertility.where('time',are.above_or_equal_to(start))\n",
    "    cleaned_table = country_fertility_after_start.drop('geo').relabel('time','Year').relabel('children_per_woman_total_fertility','Children per woman')\n",
    "    return cleaned_table\n",
    "\n",
    "bangladesh_code = 'bgd'\n",
    "fertility_over_time(bangladesh_code, 1970).plot(0, 1) # You should *not* change this line."
   ]
  },
  {
   "cell_type": "code",
   "execution_count": 132,
   "metadata": {
    "deletable": false,
    "editable": false
   },
   "outputs": [
    {
     "name": "stdout",
     "output_type": "stream",
     "text": [
      "~~~~~~~~~~~~~~~~~~~~~~~~~~~~~~~~~~~~~~~~~~~~~~~~~~~~~~~~~~~~~~~~~~~~~\n",
      "Running tests\n",
      "\n",
      "---------------------------------------------------------------------\n",
      "Test summary\n",
      "    Passed: 3\n",
      "    Failed: 0\n",
      "[ooooooooook] 100.0% passed\n",
      "\n"
     ]
    }
   ],
   "source": [
    "ok.grade(\"q1_5\");"
   ]
  },
  {
   "cell_type": "markdown",
   "metadata": {
    "deletable": false,
    "editable": false
   },
   "source": [
    "**Question 6.** Assuming everything else is constant, do the trends in fertility in the graph above help directly explain why the population growth rate decreased from 1985 to 2010 in Bangladesh? Why or why not?\n",
    "\n",
    "<!--\n",
    "BEGIN QUESTION\n",
    "name: q1_6\n",
    "manual: true\n",
    "-->\n",
    "<!-- EXPORT TO PDF -->"
   ]
  },
  {
   "cell_type": "markdown",
   "metadata": {
    "deletable": false,
    "export_pdf": true,
    "manual_grade": true,
    "manual_problem_id": "global_pop_6"
   },
   "source": [
    "***Yes, because if fertility is lower, population does not increase as quickly, which is consistent with a negative growth rate between 1985-2010.***"
   ]
  },
  {
   "cell_type": "markdown",
   "metadata": {
    "deletable": false,
    "editable": false
   },
   "source": [
    "It has been observed that lower fertility rates are often associated with lower child mortality rates. The link has been attributed to family planning: if parents can expect that their children will all survive into adulthood, then they will choose to have fewer children. We can see if this association is evident in Bangladesh by plotting the relationship between total fertility rate and [child mortality rate per 1000 children](https://en.wikipedia.org/wiki/Child_mortality)."
   ]
  },
  {
   "cell_type": "markdown",
   "metadata": {
    "deletable": false,
    "editable": false
   },
   "source": [
    "**Question 7.** Using both the `fertility` and `child_mortality` tables, draw a scatter diagram that has Bangladesh's total fertility on the horizontal axis and its child mortality on the vertical axis with one point for each year, starting with 1970.\n",
    "\n",
    "**The expression that draws the scatter diagram is provided for you; please don't change it.** Instead, create a table called `post_1969_fertility_and_child_mortality` with the appropriate column labels and data in order to generate the chart correctly. Use the label `Children per woman` to describe total fertility and the label `Child deaths per 1000 born` to describe child mortality.\n",
    "\n",
    "<!--\n",
    "BEGIN QUESTION\n",
    "name: q1_7\n",
    "manual: false\n",
    "-->"
   ]
  },
  {
   "cell_type": "code",
   "execution_count": 133,
   "metadata": {
    "deletable": false
   },
   "outputs": [
    {
     "data": {
      "image/png": "[encoded data removed]",
      "text/plain": [
       "<Figure size 360x360 with 1 Axes>"
      ]
     },
     "metadata": {},
     "output_type": "display_data"
    }
   ],
   "source": [
    "bgd_fertility = fertility.where('geo',are.equal_to('bgd')).where('time',are.above(1969)).column('children_per_woman_total_fertility')\n",
    "bgd_child_mortality = child_mortality.where('geo',are.equal_to('bgd')).where('time',are.above(1969)).column('child_mortality_under_5_per_1000_born')\n",
    "fertility_and_child_mortality = Table()\n",
    "post_1969_fertility_and_child_mortality = fertility_and_child_mortality.with_columns('Children per woman',bgd_fertility, 'Child deaths per 1000 born',bgd_child_mortality)\n",
    "\n",
    "post_1969_fertility_and_child_mortality.scatter('Children per woman', 'Child deaths per 1000 born') # You should *not* change this line."
   ]
  },
  {
   "cell_type": "code",
   "execution_count": 134,
   "metadata": {
    "deletable": false,
    "editable": false
   },
   "outputs": [
    {
     "name": "stdout",
     "output_type": "stream",
     "text": [
      "~~~~~~~~~~~~~~~~~~~~~~~~~~~~~~~~~~~~~~~~~~~~~~~~~~~~~~~~~~~~~~~~~~~~~\n",
      "Running tests\n",
      "\n",
      "---------------------------------------------------------------------\n",
      "Test summary\n",
      "    Passed: 2\n",
      "    Failed: 0\n",
      "[ooooooooook] 100.0% passed\n",
      "\n"
     ]
    }
   ],
   "source": [
    "ok.grade(\"q1_7\");"
   ]
  },
  {
   "cell_type": "markdown",
   "metadata": {
    "deletable": false,
    "editable": false
   },
   "source": [
    "**Question 8.** In one or two sentences, describe the association (if any) that is illustrated by this scatter diagram. Does the diagram show that reduced child mortality causes parents to choose to have fewer children?\n",
    "\n",
    "<!--\n",
    "BEGIN QUESTION\n",
    "name: q1_8\n",
    "manual: true\n",
    "-->\n",
    "<!-- EXPORT TO PDF -->"
   ]
  },
  {
   "cell_type": "markdown",
   "metadata": {
    "deletable": false,
    "export_pdf": true,
    "manual_grade": true,
    "manual_problem_id": "global_pop_8"
   },
   "source": [
    "***There is a strong positive association between reduced child mortality rates and fewer children. As the child mortality rate increases, so does the fertility rate. However, this does not necessarily mean that one causes the other, as there could be a number of factors beyond the parents' choice that creates a relationship between these two variables***"
   ]
  },
  {
   "cell_type": "markdown",
   "metadata": {},
   "source": [
    "### Checkpoint (due Friday 9/27)\n",
    "#### Congratulations, you have reached the checkpoint! Run the submit cell below to generate the checkpoint submission."
   ]
  },
  {
   "cell_type": "code",
   "execution_count": 135,
   "metadata": {},
   "outputs": [
    {
     "data": {
      "application/javascript": [
       "IPython.notebook.save_checkpoint();"
      ],
      "text/plain": [
       "<IPython.core.display.Javascript object>"
      ]
     },
     "metadata": {},
     "output_type": "display_data"
    },
    {
     "data": {
      "application/javascript": [
       "IPython.notebook.save_notebook();"
      ],
      "text/plain": [
       "<IPython.core.display.Javascript object>"
      ]
     },
     "metadata": {},
     "output_type": "display_data"
    },
    {
     "name": "stdout",
     "output_type": "stream",
     "text": [
      "Saving notebook... Saved 'project1.ipynb'.\n",
      "Submit... 100% complete\n",
      "Submission successful for user: chloelau@berkeley.edu\n",
      "URL: https://okpy.org/cal/data8/fa19/project1/submissions/Z84RwJ\n",
      "\n"
     ]
    }
   ],
   "source": [
    "_ = ok.submit()"
   ]
  },
  {
   "cell_type": "markdown",
   "metadata": {
    "deletable": false,
    "editable": false
   },
   "source": [
    "### The World\n",
    "\n",
    "The change observed in Bangladesh since 1970 can also be observed in many other developing countries: health services improve, life expectancy increases, and child mortality decreases. At the same time, the fertility rate often plummets, and so the population growth rate decreases despite increasing longevity."
   ]
  },
  {
   "cell_type": "markdown",
   "metadata": {
    "deletable": false,
    "editable": false
   },
   "source": [
    "Run the cell below to generate two overlaid histograms, one for 1960 and one for 2010, that show the distributions of total fertility rates for these two years among all 201 countries in the `fertility` table."
   ]
  },
  {
   "cell_type": "code",
   "execution_count": 136,
   "metadata": {
    "deletable": false
   },
   "outputs": [
    {
     "data": {
      "image/png": "[encoded data removed]",
      "text/plain": [
       "<Figure size 432x288 with 1 Axes>"
      ]
     },
     "metadata": {},
     "output_type": "display_data"
    }
   ],
   "source": [
    "Table().with_columns(\n",
    "    '1960', fertility.where('time', 1960).column(2),\n",
    "    '2010', fertility.where('time', 2010).column(2)\n",
    ").hist(bins=np.arange(0, 10, 0.5), unit='child per woman')\n",
    "_ = plots.xlabel('Children per woman')\n",
    "_ = plots.ylabel('Percent per children per woman')\n",
    "_ = plots.xticks(np.arange(10))"
   ]
  },
  {
   "cell_type": "markdown",
   "metadata": {
    "deletable": false,
    "editable": false
   },
   "source": [
    "**Question 9.** Assign `fertility_statements` to an array of the numbers of each statement below that can be correctly inferred from these histograms.\n",
    "1. About the same number of countries had a fertility rate between 3.5 and 4.5 in both 1960 and 2010.\n",
    "1. In 2010, about 40% of countries had a fertility rate between 1.5 and 2.\n",
    "1. In 1960, less than 20% of countries had a fertility rate below 3.\n",
    "1. More countries had a fertility rate above 3 in 1960 than in 2010.\n",
    "1. At least half of countries had a fertility rate between 5 and 8 in 1960.\n",
    "1. At least half of countries had a fertility rate below 3 in 2010.\n",
    "\n",
    "<!--\n",
    "BEGIN QUESTION\n",
    "name: q1_9\n",
    "-->"
   ]
  },
  {
   "cell_type": "code",
   "execution_count": 137,
   "metadata": {
    "deletable": false
   },
   "outputs": [
    {
     "data": {
      "text/plain": [
       "array([1, 3, 4, 5, 6])"
      ]
     },
     "execution_count": 137,
     "metadata": {},
     "output_type": "execute_result"
    }
   ],
   "source": [
    "fertility_statements = make_array(1,3,4,5,6)\n",
    "fertility_statements"
   ]
  },
  {
   "cell_type": "code",
   "execution_count": 138,
   "metadata": {
    "deletable": false,
    "editable": false
   },
   "outputs": [
    {
     "name": "stdout",
     "output_type": "stream",
     "text": [
      "~~~~~~~~~~~~~~~~~~~~~~~~~~~~~~~~~~~~~~~~~~~~~~~~~~~~~~~~~~~~~~~~~~~~~\n",
      "Running tests\n",
      "\n",
      "---------------------------------------------------------------------\n",
      "Test summary\n",
      "    Passed: 1\n",
      "    Failed: 0\n",
      "[ooooooooook] 100.0% passed\n",
      "\n"
     ]
    }
   ],
   "source": [
    "ok.grade(\"q1_9\");"
   ]
  },
  {
   "cell_type": "markdown",
   "metadata": {
    "deletable": false,
    "editable": false
   },
   "source": [
    "**Question 10.** Draw a line plot of the world population from 1800 through 2005. The world population is the sum of all the country's populations. \n",
    "\n",
    "<!--\n",
    "BEGIN QUESTION\n",
    "name: q1_10\n",
    "manual: true\n",
    "-->\n",
    "<!-- EXPORT TO PDF -->"
   ]
  },
  {
   "cell_type": "code",
   "execution_count": 139,
   "metadata": {
    "deletable": false,
    "export_pdf": true,
    "manual_grade": true,
    "manual_problem_id": "global_pop_10"
   },
   "outputs": [
    {
     "data": {
      "image/png": "[encoded data removed]",
      "text/plain": [
       "<Figure size 432x288 with 1 Axes>"
      ]
     },
     "metadata": {},
     "output_type": "display_data"
    }
   ],
   "source": [
    "#Fill in code here\n",
    "population_1800_to_2005 = population.where('time', are.between(1800,2006)).drop('geo')\n",
    "world_population = population_1800_to_2005.group('time', sum) #Want the sum of all countries populations for each year\n",
    "line_graph = world_population.plot('time','population_total sum')"
   ]
  },
  {
   "cell_type": "markdown",
   "metadata": {
    "deletable": false,
    "editable": false
   },
   "source": [
    "**Question 11.** Create a function `stats_for_year` that takes a `year` and returns a table of statistics. The table it returns should have four columns: `geo`, `population_total`, `children_per_woman_total_fertility`, and `child_mortality_under_5_per_1000_born`. Each row should contain one Alpha-3 country code and three statistics: population, fertility rate, and child mortality for that `year` from the `population`, `fertility` and `child_mortality` tables. Only include rows for which all three statistics are available for the country and year.\n",
    "\n",
    "In addition, restrict the result to country codes that appears in `big_50`, an array of the 50 most populous countries in 2010. This restriction will speed up computations later in the project.\n",
    "\n",
    "After you write `stats_for_year`, try calling `stats_for_year` on any year between 1960 and 2010. Try to understand the output of stats_for_year.\n",
    "\n",
    "*Hint*: The tests for this question are quite comprehensive, so if you pass the tests, your function is probably correct. However, without calling your function yourself and looking at the output, it will be very difficult to understand any problems you have, so try your best to write the function correctly and check that it works before you rely on the `ok` tests to confirm your work.\n",
    "\n",
    "<!--\n",
    "BEGIN QUESTION\n",
    "name: q1_11\n",
    "manual: false\n",
    "-->"
   ]
  },
  {
   "cell_type": "code",
   "execution_count": 140,
   "metadata": {
    "deletable": false
   },
   "outputs": [
    {
     "data": {
      "text/html": [
       "<table border=\"1\" class=\"dataframe\">\n",
       "    <thead>\n",
       "        <tr>\n",
       "            <th>geo</th> <th>population_total</th> <th>children_per_woman_total_fertility</th> <th>child_mortality_under_5_per_1000_born</th>\n",
       "        </tr>\n",
       "    </thead>\n",
       "    <tbody>\n",
       "        <tr>\n",
       "            <td>afg </td> <td>10599790        </td> <td>7.67                              </td> <td>318.1                                </td>\n",
       "        </tr>\n",
       "        <tr>\n",
       "            <td>arg </td> <td>23261273        </td> <td>3.05                              </td> <td>58.32                                </td>\n",
       "        </tr>\n",
       "        <tr>\n",
       "            <td>bgd </td> <td>61585520        </td> <td>6.94                              </td> <td>227.1                                </td>\n",
       "        </tr>\n",
       "        <tr>\n",
       "            <td>bra </td> <td>91213009        </td> <td>5.33                              </td> <td>140.7                                </td>\n",
       "        </tr>\n",
       "        <tr>\n",
       "            <td>can </td> <td>20739031        </td> <td>2.46                              </td> <td>23.9                                 </td>\n",
       "        </tr>\n",
       "        <tr>\n",
       "            <td>chn </td> <td>765570668       </td> <td>6.37                              </td> <td>132.3                                </td>\n",
       "        </tr>\n",
       "        <tr>\n",
       "            <td>cod </td> <td>18913177        </td> <td>6.16                              </td> <td>253.2                                </td>\n",
       "        </tr>\n",
       "        <tr>\n",
       "            <td>col </td> <td>20905061        </td> <td>6.05                              </td> <td>104.6                                </td>\n",
       "        </tr>\n",
       "        <tr>\n",
       "            <td>deu </td> <td>77611000        </td> <td>2.28                              </td> <td>27.2                                 </td>\n",
       "        </tr>\n",
       "        <tr>\n",
       "            <td>dza </td> <td>13744383        </td> <td>7.66                              </td> <td>248                                  </td>\n",
       "        </tr>\n",
       "    </tbody>\n",
       "</table>\n",
       "<p>... (40 rows omitted)</p>"
      ],
      "text/plain": [
       "geo  | population_total | children_per_woman_total_fertility | child_mortality_under_5_per_1000_born\n",
       "afg  | 10599790         | 7.67                               | 318.1\n",
       "arg  | 23261273         | 3.05                               | 58.32\n",
       "bgd  | 61585520         | 6.94                               | 227.1\n",
       "bra  | 91213009         | 5.33                               | 140.7\n",
       "can  | 20739031         | 2.46                               | 23.9\n",
       "chn  | 765570668        | 6.37                               | 132.3\n",
       "cod  | 18913177         | 6.16                               | 253.2\n",
       "col  | 20905061         | 6.05                               | 104.6\n",
       "deu  | 77611000         | 2.28                               | 27.2\n",
       "dza  | 13744383         | 7.66                               | 248\n",
       "... (40 rows omitted)"
      ]
     },
     "execution_count": 140,
     "metadata": {},
     "output_type": "execute_result"
    }
   ],
   "source": [
    "# We first create a population table that only includes the \n",
    "# 50 countries with the largest 2010 populations. We focus on \n",
    "# these 50 countries only so that plotting later will run faster.\n",
    "big_50 = population.where('time', are.equal_to(2010)).sort(\"population_total\", descending=True).take(np.arange(50)).column('geo')\n",
    "population_of_big_50 = population.where('time', are.above(1959)).where('geo', are.contained_in(big_50))\n",
    "\n",
    "def stats_for_year(year):\n",
    "    \"\"\"Return a table of the stats for each country that year.\"\"\"\n",
    "    p = population_of_big_50.where('time', are.equal_to(year)).drop('time')\n",
    "    f = fertility.where('time', are.equal_to(year)).drop('time')\n",
    "    c = child_mortality.where('time', are.equal_to(year)).drop('time')\n",
    "    return p.join('geo',f).join('geo',c)\n",
    "stats_for_year(1968)"
   ]
  },
  {
   "cell_type": "code",
   "execution_count": 141,
   "metadata": {
    "deletable": false,
    "editable": false
   },
   "outputs": [
    {
     "name": "stdout",
     "output_type": "stream",
     "text": [
      "~~~~~~~~~~~~~~~~~~~~~~~~~~~~~~~~~~~~~~~~~~~~~~~~~~~~~~~~~~~~~~~~~~~~~\n",
      "Running tests\n",
      "\n",
      "---------------------------------------------------------------------\n",
      "Test summary\n",
      "    Passed: 4\n",
      "    Failed: 0\n",
      "[ooooooooook] 100.0% passed\n",
      "\n"
     ]
    }
   ],
   "source": [
    "ok.grade(\"q1_11\");"
   ]
  },
  {
   "cell_type": "markdown",
   "metadata": {
    "deletable": false,
    "editable": false
   },
   "source": [
    "**Question 12.** Create a table called `pop_by_decade` with two columns called `decade` and `population`. It has a row for each `year` since 1960 that starts a decade. The `population` column contains the total population of all countries included in the result of `stats_for_year(year)` for the first `year` of the decade. For example, 1960 is the first year of the 1960's decade. You should see that these countries contain most of the world's population.\n",
    "\n",
    "*Hint:* One approach is to define a function `pop_for_year` that computes this total population, then `apply` it to the `decade` column.  The `stats_for_year` function from the previous question may be useful here.\n",
    "\n",
    "This first test is just a sanity check for your helper function if you choose to use it. You will not lose points for not implementing the function `pop_for_year`.\n",
    "\n",
    "**Note:** The cell where you will generate the `pop_by_decade` table is below the cell where you can choose to define the helper function `pop_for_year`. You should define your `pop_by_decade` table in the cell that starts with the table `decades` being defined. \n",
    "\n",
    "<!--\n",
    "BEGIN QUESTION\n",
    "name: q1_12_0\n",
    "manual: false\n",
    "points: 0\n",
    "-->"
   ]
  },
  {
   "cell_type": "code",
   "execution_count": 142,
   "metadata": {},
   "outputs": [],
   "source": [
    "def pop_for_year(year):\n",
    "   return sum(stats_for_year(year).column('population_total'))"
   ]
  },
  {
   "cell_type": "code",
   "execution_count": 143,
   "metadata": {
    "deletable": false,
    "editable": false
   },
   "outputs": [
    {
     "name": "stdout",
     "output_type": "stream",
     "text": [
      "~~~~~~~~~~~~~~~~~~~~~~~~~~~~~~~~~~~~~~~~~~~~~~~~~~~~~~~~~~~~~~~~~~~~~\n",
      "Running tests\n",
      "\n",
      "---------------------------------------------------------------------\n",
      "Test summary\n",
      "    Passed: 3\n",
      "    Failed: 0\n",
      "[ooooooooook] 100.0% passed\n",
      "\n"
     ]
    }
   ],
   "source": [
    "ok.grade(\"q1_12_0\");"
   ]
  },
  {
   "cell_type": "markdown",
   "metadata": {
    "deletable": false,
    "editable": false
   },
   "source": [
    "Now that you've defined your helper function (if you've chosen to do so), define the `pop_by_decade` table.\n",
    "\n",
    "<!--\n",
    "BEGIN QUESTION\n",
    "name: q1_12\n",
    "manual: false\n",
    "-->"
   ]
  },
  {
   "cell_type": "code",
   "execution_count": 144,
   "metadata": {
    "deletable": false
   },
   "outputs": [
    {
     "data": {
      "text/html": [
       "<table border=\"1\" class=\"dataframe\">\n",
       "    <thead>\n",
       "        <tr>\n",
       "            <th>decade</th> <th>population</th>\n",
       "        </tr>\n",
       "    </thead>\n",
       "    <tbody>\n",
       "        <tr>\n",
       "            <td>1960  </td> <td>2,624,944,597</td>\n",
       "        </tr>\n",
       "        <tr>\n",
       "            <td>1970  </td> <td>3,211,487,418</td>\n",
       "        </tr>\n",
       "        <tr>\n",
       "            <td>1980  </td> <td>3,880,722,003</td>\n",
       "        </tr>\n",
       "        <tr>\n",
       "            <td>1990  </td> <td>4,648,434,558</td>\n",
       "        </tr>\n",
       "        <tr>\n",
       "            <td>2000  </td> <td>5,367,553,063</td>\n",
       "        </tr>\n",
       "        <tr>\n",
       "            <td>2010  </td> <td>6,040,810,517</td>\n",
       "        </tr>\n",
       "    </tbody>\n",
       "</table>"
      ],
      "text/plain": [
       "decade | population\n",
       "1960   | 2,624,944,597\n",
       "1970   | 3,211,487,418\n",
       "1980   | 3,880,722,003\n",
       "1990   | 4,648,434,558\n",
       "2000   | 5,367,553,063\n",
       "2010   | 6,040,810,517"
      ]
     },
     "execution_count": 144,
     "metadata": {},
     "output_type": "execute_result"
    }
   ],
   "source": [
    "decades = Table().with_column('decade', np.arange(1960, 2011, 10))\n",
    "\n",
    "pop_by_decade = decades.with_column('population',decades.apply(pop_for_year,'decade'))\n",
    "pop_by_decade.set_format(1, NumberFormatter)"
   ]
  },
  {
   "cell_type": "code",
   "execution_count": 145,
   "metadata": {
    "deletable": false,
    "editable": false
   },
   "outputs": [
    {
     "name": "stdout",
     "output_type": "stream",
     "text": [
      "~~~~~~~~~~~~~~~~~~~~~~~~~~~~~~~~~~~~~~~~~~~~~~~~~~~~~~~~~~~~~~~~~~~~~\n",
      "Running tests\n",
      "\n",
      "---------------------------------------------------------------------\n",
      "Test summary\n",
      "    Passed: 2\n",
      "    Failed: 0\n",
      "[ooooooooook] 100.0% passed\n",
      "\n"
     ]
    }
   ],
   "source": [
    "ok.grade(\"q1_12\");"
   ]
  },
  {
   "cell_type": "markdown",
   "metadata": {
    "deletable": false,
    "editable": false
   },
   "source": [
    "The `countries` table describes various characteristics of countries. The `country` column contains the same codes as the `geo` column in each of the other data tables (`population`, `fertility`, and `child_mortality`). The `world_6region` column classifies each country into a region of the world. Run the cell below to inspect the data."
   ]
  },
  {
   "cell_type": "code",
   "execution_count": 146,
   "metadata": {},
   "outputs": [
    {
     "data": {
      "text/html": [
       "<table border=\"1\" class=\"dataframe\">\n",
       "    <thead>\n",
       "        <tr>\n",
       "            <th>country</th> <th>name</th> <th>world_6region</th>\n",
       "        </tr>\n",
       "    </thead>\n",
       "    <tbody>\n",
       "        <tr>\n",
       "            <td>afg      </td> <td>Afghanistan          </td> <td>south_asia              </td>\n",
       "        </tr>\n",
       "        <tr>\n",
       "            <td>akr_a_dhe</td> <td>Akrotiri and Dhekelia</td> <td>europe_central_asia     </td>\n",
       "        </tr>\n",
       "        <tr>\n",
       "            <td>alb      </td> <td>Albania              </td> <td>europe_central_asia     </td>\n",
       "        </tr>\n",
       "        <tr>\n",
       "            <td>dza      </td> <td>Algeria              </td> <td>middle_east_north_africa</td>\n",
       "        </tr>\n",
       "        <tr>\n",
       "            <td>asm      </td> <td>American Samoa       </td> <td>east_asia_pacific       </td>\n",
       "        </tr>\n",
       "        <tr>\n",
       "            <td>and      </td> <td>Andorra              </td> <td>europe_central_asia     </td>\n",
       "        </tr>\n",
       "        <tr>\n",
       "            <td>ago      </td> <td>Angola               </td> <td>sub_saharan_africa      </td>\n",
       "        </tr>\n",
       "        <tr>\n",
       "            <td>aia      </td> <td>Anguilla             </td> <td>america                 </td>\n",
       "        </tr>\n",
       "        <tr>\n",
       "            <td>atg      </td> <td>Antigua and Barbuda  </td> <td>america                 </td>\n",
       "        </tr>\n",
       "        <tr>\n",
       "            <td>arg      </td> <td>Argentina            </td> <td>america                 </td>\n",
       "        </tr>\n",
       "    </tbody>\n",
       "</table>\n",
       "<p>... (245 rows omitted)</p>"
      ],
      "text/plain": [
       "country   | name                  | world_6region\n",
       "afg       | Afghanistan           | south_asia\n",
       "akr_a_dhe | Akrotiri and Dhekelia | europe_central_asia\n",
       "alb       | Albania               | europe_central_asia\n",
       "dza       | Algeria               | middle_east_north_africa\n",
       "asm       | American Samoa        | east_asia_pacific\n",
       "and       | Andorra               | europe_central_asia\n",
       "ago       | Angola                | sub_saharan_africa\n",
       "aia       | Anguilla              | america\n",
       "atg       | Antigua and Barbuda   | america\n",
       "arg       | Argentina             | america\n",
       "... (245 rows omitted)"
      ]
     },
     "execution_count": 146,
     "metadata": {},
     "output_type": "execute_result"
    }
   ],
   "source": [
    "countries = Table.read_table('countries.csv').where('country', are.contained_in(population.group('geo').column('geo')))\n",
    "countries.select('country', 'name', 'world_6region')"
   ]
  },
  {
   "cell_type": "markdown",
   "metadata": {
    "deletable": false,
    "editable": false
   },
   "source": [
    "**Question 13.** Create a table called `region_counts` that has two columns, `region` and `count`. It should contain two columns: a region column and a count column that contains the number of countries in each region that appear in the result of `stats_for_year(1960)`. For example, one row would have `south_asia` as its `world_6region` value and an integer as its `count` value: the number of large South Asian countries for which we have population, fertility, and child mortality numbers from 1960.\n",
    "\n",
    "<!--\n",
    "BEGIN QUESTION\n",
    "name: q1_13\n",
    "-->"
   ]
  },
  {
   "cell_type": "code",
   "execution_count": 147,
   "metadata": {
    "deletable": false
   },
   "outputs": [
    {
     "data": {
      "text/html": [
       "<table border=\"1\" class=\"dataframe\">\n",
       "    <thead>\n",
       "        <tr>\n",
       "            <th>region</th> <th>count</th>\n",
       "        </tr>\n",
       "    </thead>\n",
       "    <tbody>\n",
       "        <tr>\n",
       "            <td>america                 </td> <td>8    </td>\n",
       "        </tr>\n",
       "        <tr>\n",
       "            <td>east_asia_pacific       </td> <td>10   </td>\n",
       "        </tr>\n",
       "        <tr>\n",
       "            <td>europe_central_asia     </td> <td>10   </td>\n",
       "        </tr>\n",
       "        <tr>\n",
       "            <td>middle_east_north_africa</td> <td>7    </td>\n",
       "        </tr>\n",
       "        <tr>\n",
       "            <td>south_asia              </td> <td>5    </td>\n",
       "        </tr>\n",
       "        <tr>\n",
       "            <td>sub_saharan_africa      </td> <td>10   </td>\n",
       "        </tr>\n",
       "    </tbody>\n",
       "</table>"
      ],
      "text/plain": [
       "region                   | count\n",
       "america                  | 8\n",
       "east_asia_pacific        | 10\n",
       "europe_central_asia      | 10\n",
       "middle_east_north_africa | 7\n",
       "south_asia               | 5\n",
       "sub_saharan_africa       | 10"
      ]
     },
     "execution_count": 147,
     "metadata": {},
     "output_type": "execute_result"
    }
   ],
   "source": [
    "region_counts = stats_for_year(1960).join('geo',countries,'country').select('geo','world_6region').group('world_6region').relabel('world_6region','region')\n",
    "region_counts"
   ]
  },
  {
   "cell_type": "code",
   "execution_count": 148,
   "metadata": {
    "deletable": false,
    "editable": false
   },
   "outputs": [
    {
     "name": "stdout",
     "output_type": "stream",
     "text": [
      "~~~~~~~~~~~~~~~~~~~~~~~~~~~~~~~~~~~~~~~~~~~~~~~~~~~~~~~~~~~~~~~~~~~~~\n",
      "Running tests\n",
      "\n",
      "---------------------------------------------------------------------\n",
      "Test summary\n",
      "    Passed: 2\n",
      "    Failed: 0\n",
      "[ooooooooook] 100.0% passed\n",
      "\n"
     ]
    }
   ],
   "source": [
    "ok.grade(\"q1_13\");"
   ]
  },
  {
   "cell_type": "markdown",
   "metadata": {
    "deletable": false,
    "editable": false
   },
   "source": [
    "The following scatter diagram compares total fertility rate and child mortality rate for each country in 1960. The area of each dot represents the population of the country, and the color represents its region of the world. Run the cell. Do you think you can identify any of the dots?"
   ]
  },
  {
   "cell_type": "code",
   "execution_count": 149,
   "metadata": {
    "deletable": false
   },
   "outputs": [
    {
     "data": {
      "image/png": "[encoded data removed]",
      "text/plain": [
       "<Figure size 360x360 with 1 Axes>"
      ]
     },
     "metadata": {},
     "output_type": "display_data"
    }
   ],
   "source": [
    "from functools import lru_cache as cache\n",
    "\n",
    "# This cache annotation makes sure that if the same year\n",
    "# is passed as an argument twice, the work of computing\n",
    "# the result is only carried out once.\n",
    "@cache(None)\n",
    "def stats_relabeled(year):\n",
    "    \"\"\"Relabeled and cached version of stats_for_year.\"\"\"\n",
    "    return stats_for_year(year).relabel(2, 'Children per woman').relabel(3, 'Child deaths per 1000 born')\n",
    "\n",
    "def fertility_vs_child_mortality(year):\n",
    "    \"\"\"Draw a color scatter diagram comparing child mortality and fertility.\"\"\"\n",
    "    with_region = stats_relabeled(year).join('geo', countries.select('country', 'world_6region'), 'country')\n",
    "    with_region.scatter(2, 3, sizes=1, group=4, s=500)\n",
    "    plots.xlim(0,10)\n",
    "    plots.ylim(-50, 500)\n",
    "    plots.title(year)\n",
    "\n",
    "fertility_vs_child_mortality(1960)"
   ]
  },
  {
   "cell_type": "markdown",
   "metadata": {
    "deletable": false,
    "editable": false
   },
   "source": [
    "**Question 14.** Assign `scatter_statements` to an array of the numbers of each statement below that can be inferred from this scatter diagram for 1960. \n",
    "1. As a whole, the `europe_central_asia` region had the lowest child mortality rate.\n",
    "1. The lowest child mortality rate of any country was from an `east_asia_pacific` country.\n",
    "1. Most countries had a fertility rate above 5.\n",
    "1. There was an association between child mortality and fertility.\n",
    "1. The two largest countries by population also had the two highest child mortality rate.\n",
    "\n",
    "<!--\n",
    "BEGIN QUESTION\n",
    "name: q1_14\n",
    "-->"
   ]
  },
  {
   "cell_type": "code",
   "execution_count": 150,
   "metadata": {
    "deletable": false
   },
   "outputs": [
    {
     "data": {
      "text/plain": [
       "array([1, 3, 4])"
      ]
     },
     "execution_count": 150,
     "metadata": {},
     "output_type": "execute_result"
    }
   ],
   "source": [
    "scatter_statements = make_array(1,3,4)\n",
    "scatter_statements"
   ]
  },
  {
   "cell_type": "code",
   "execution_count": 151,
   "metadata": {
    "deletable": false,
    "editable": false,
    "scrolled": true
   },
   "outputs": [
    {
     "name": "stdout",
     "output_type": "stream",
     "text": [
      "~~~~~~~~~~~~~~~~~~~~~~~~~~~~~~~~~~~~~~~~~~~~~~~~~~~~~~~~~~~~~~~~~~~~~\n",
      "Running tests\n",
      "\n",
      "---------------------------------------------------------------------\n",
      "Test summary\n",
      "    Passed: 1\n",
      "    Failed: 0\n",
      "[ooooooooook] 100.0% passed\n",
      "\n"
     ]
    }
   ],
   "source": [
    "ok.grade(\"q1_14\");"
   ]
  },
  {
   "cell_type": "markdown",
   "metadata": {
    "deletable": false
   },
   "source": [
    "The result of the cell below is interactive. Drag the slider to the right to see how countries have changed over time. You'll find that the great divide between so-called \"Western\" and \"developing\" countries that existed in the 1960's has nearly disappeared. This shift in fertility rates is the reason that the global population is expected to grow more slowly in the 21st century than it did in the 19th and 20th centuries.\n",
    "\n",
    "**Note:** Don't worry if a red warning pops up when running the cell below. You'll still be able to run the cell!"
   ]
  },
  {
   "cell_type": "code",
   "execution_count": 152,
   "metadata": {
    "deletable": false,
    "scrolled": false
   },
   "outputs": [
    {
     "name": "stderr",
     "output_type": "stream",
     "text": [
      "/srv/app/venv/lib/python3.6/site-packages/datascience/tables.py:193: FutureWarning: Implicit column method lookup is deprecated.\n",
      "  warnings.warn(\"Implicit column method lookup is deprecated.\", FutureWarning)\n"
     ]
    },
    {
     "data": {
      "application/vnd.jupyter.widget-view+json": {
       "model_id": "2bca353ce0d8457fb3138cdae4e40825",
       "version_major": 2,
       "version_minor": 0
      },
      "text/plain": [
       "interactive(children=(IntSlider(value=1960, description='year', max=2015, min=1960), Output()), _dom_classes=(…"
      ]
     },
     "metadata": {},
     "output_type": "display_data"
    }
   ],
   "source": [
    "import ipywidgets as widgets\n",
    "\n",
    "# This part takes a few minutes to run because it \n",
    "# computes 55 tables in advance: one for each year.\n",
    "Table().with_column('Year', np.arange(1960, 2016)).apply(stats_relabeled, 'Year')\n",
    "\n",
    "_ = widgets.interact(fertility_vs_child_mortality, \n",
    "                     year=widgets.IntSlider(min=1960, max=2015, value=1960))"
   ]
  },
  {
   "cell_type": "markdown",
   "metadata": {
    "deletable": false,
    "editable": false
   },
   "source": [
    "Now is a great time to take a break and watch the same data presented by [Hans Rosling in a 2010 TEDx talk](https://www.gapminder.org/videos/reducing-child-mortality-a-moral-and-environmental-imperative) with smoother animation and witty commentary."
   ]
  },
  {
   "cell_type": "markdown",
   "metadata": {
    "deletable": false,
    "editable": false
   },
   "source": [
    "## 2. Global Poverty\n"
   ]
  },
  {
   "cell_type": "markdown",
   "metadata": {
    "deletable": false,
    "editable": false
   },
   "source": [
    "In 1800, 85% of the world's 1 billion people lived in *extreme poverty*, defined by the United Nations as \"a condition characterized by severe deprivation of basic human needs, including food, safe drinking water, sanitation facilities, health, shelter, education and information.\" A common measure of extreme poverty is a person living on less than \\$1.25 per day.\n",
    "\n",
    "In 2018, the proportion of people living in extreme poverty was estimated to be 8%. Although the world rate of extreme poverty has declined consistently for hundreds of years, the number of people living in extreme poverty is still over 600 million. The United Nations recently adopted an [ambitious goal](http://www.un.org/sustainabledevelopment/poverty/): \"By 2030, eradicate extreme poverty for all people everywhere.\"\n",
    "In this section, we will examine extreme poverty trends around the world."
   ]
  },
  {
   "cell_type": "markdown",
   "metadata": {
    "deletable": false,
    "editable": false
   },
   "source": [
    "First, load the population and poverty rate by country and year and the country descriptions. While the `population` table has values for every recent year for many countries, the `poverty` table only includes certain years for each country in which a measurement of the rate of extreme poverty was available."
   ]
  },
  {
   "cell_type": "code",
   "execution_count": 153,
   "metadata": {},
   "outputs": [
    {
     "data": {
      "text/html": [
       "<table border=\"1\" class=\"dataframe\">\n",
       "    <thead>\n",
       "        <tr>\n",
       "            <th>geo</th> <th>time</th> <th>extreme_poverty_percent_people_below_125_a_day</th>\n",
       "        </tr>\n",
       "    </thead>\n",
       "    <tbody>\n",
       "        <tr>\n",
       "            <td>alb </td> <td>1996</td> <td>0.2                                           </td>\n",
       "        </tr>\n",
       "        <tr>\n",
       "            <td>alb </td> <td>2002</td> <td>0.73                                          </td>\n",
       "        </tr>\n",
       "        <tr>\n",
       "            <td>alb </td> <td>2004</td> <td>0.53                                          </td>\n",
       "        </tr>\n",
       "    </tbody>\n",
       "</table>\n",
       "<p>... (1096 rows omitted)</p>"
      ],
      "text/plain": [
       "<IPython.core.display.HTML object>"
      ]
     },
     "metadata": {},
     "output_type": "display_data"
    }
   ],
   "source": [
    "population = Table.read_table('population.csv')\n",
    "countries = Table.read_table('countries.csv').where('country', are.contained_in(population.group('geo').column('geo')))\n",
    "poverty = Table.read_table('poverty.csv')\n",
    "poverty.show(3)"
   ]
  },
  {
   "cell_type": "markdown",
   "metadata": {
    "deletable": false,
    "editable": false
   },
   "source": [
    "**Question 1.** Assign `latest_poverty` to a three-column table with one row for each country that appears in the `poverty` table. The first column should contain the 3-letter code for the country. The second column should contain the most recent year for which an extreme poverty rate is available for the country. The third column should contain the poverty rate in that year. **Do not change the last line, so that the labels of your table are set correctly.**\n",
    "\n",
    "*Hint*: think about how ```group``` works: it does a sequential search of the table (from top to bottom) and collects values in the array in the order in which they appear, and then applies a function to that array. The `first` function may be helpful, but you are not required to use it.\n",
    "\n",
    "<!--\n",
    "BEGIN QUESTION\n",
    "name: q2_1\n",
    "-->"
   ]
  },
  {
   "cell_type": "code",
   "execution_count": 154,
   "metadata": {
    "deletable": false
   },
   "outputs": [
    {
     "data": {
      "text/html": [
       "<table border=\"1\" class=\"dataframe\">\n",
       "    <thead>\n",
       "        <tr>\n",
       "            <th>geo</th> <th>time</th> <th>poverty_percent</th>\n",
       "        </tr>\n",
       "    </thead>\n",
       "    <tbody>\n",
       "        <tr>\n",
       "            <td>ago </td> <td>2009</td> <td>43.37          </td>\n",
       "        </tr>\n",
       "        <tr>\n",
       "            <td>alb </td> <td>2012</td> <td>0.46           </td>\n",
       "        </tr>\n",
       "        <tr>\n",
       "            <td>arg </td> <td>2011</td> <td>1.41           </td>\n",
       "        </tr>\n",
       "        <tr>\n",
       "            <td>arm </td> <td>2012</td> <td>1.75           </td>\n",
       "        </tr>\n",
       "        <tr>\n",
       "            <td>aus </td> <td>2003</td> <td>1.36           </td>\n",
       "        </tr>\n",
       "        <tr>\n",
       "            <td>aut </td> <td>2004</td> <td>0.34           </td>\n",
       "        </tr>\n",
       "        <tr>\n",
       "            <td>aze </td> <td>2008</td> <td>0.31           </td>\n",
       "        </tr>\n",
       "        <tr>\n",
       "            <td>bdi </td> <td>2006</td> <td>81.32          </td>\n",
       "        </tr>\n",
       "        <tr>\n",
       "            <td>bel </td> <td>2000</td> <td>0.5            </td>\n",
       "        </tr>\n",
       "        <tr>\n",
       "            <td>ben </td> <td>2012</td> <td>51.61          </td>\n",
       "        </tr>\n",
       "    </tbody>\n",
       "</table>\n",
       "<p>... (135 rows omitted)</p>"
      ],
      "text/plain": [
       "geo  | time | poverty_percent\n",
       "ago  | 2009 | 43.37\n",
       "alb  | 2012 | 0.46\n",
       "arg  | 2011 | 1.41\n",
       "arm  | 2012 | 1.75\n",
       "aus  | 2003 | 1.36\n",
       "aut  | 2004 | 0.34\n",
       "aze  | 2008 | 0.31\n",
       "bdi  | 2006 | 81.32\n",
       "bel  | 2000 | 0.5\n",
       "ben  | 2012 | 51.61\n",
       "... (135 rows omitted)"
      ]
     },
     "execution_count": 154,
     "metadata": {},
     "output_type": "execute_result"
    }
   ],
   "source": [
    "def first(values):\n",
    "    return values.item(0)\n",
    "\n",
    "latest_poverty = poverty.sort('time',descending=True).group('geo',first)\n",
    "latest_poverty = latest_poverty.relabeled(0, 'geo').relabeled(1, 'time').relabeled(2, 'poverty_percent') # You should *not* change this line.\n",
    "latest_poverty"
   ]
  },
  {
   "cell_type": "code",
   "execution_count": 155,
   "metadata": {
    "deletable": false,
    "editable": false
   },
   "outputs": [
    {
     "name": "stdout",
     "output_type": "stream",
     "text": [
      "~~~~~~~~~~~~~~~~~~~~~~~~~~~~~~~~~~~~~~~~~~~~~~~~~~~~~~~~~~~~~~~~~~~~~\n",
      "Running tests\n",
      "\n",
      "---------------------------------------------------------------------\n",
      "Test summary\n",
      "    Passed: 2\n",
      "    Failed: 0\n",
      "[ooooooooook] 100.0% passed\n",
      "\n"
     ]
    }
   ],
   "source": [
    "ok.grade(\"q2_1\");"
   ]
  },
  {
   "cell_type": "markdown",
   "metadata": {
    "deletable": false,
    "editable": false
   },
   "source": [
    "**Question 2.** Using both `latest_poverty` and `population`, create a four-column table called `recent_poverty_total` with one row for each country in `latest_poverty`. The four columns should have the following labels and contents:\n",
    "1. `geo` contains the 3-letter country code,\n",
    "1. `poverty_percent` contains the most recent poverty percent,\n",
    "1. `population_total` contains the population of the country in 2010,\n",
    "1. `poverty_total` contains the number of people in poverty **rounded to the nearest integer**, based on the 2010 population and most recent poverty rate.\n",
    "\n",
    "<!--\n",
    "BEGIN QUESTION\n",
    "name: q2_2\n",
    "-->"
   ]
  },
  {
   "cell_type": "code",
   "execution_count": 156,
   "metadata": {
    "deletable": false
   },
   "outputs": [
    {
     "data": {
      "text/html": [
       "<table border=\"1\" class=\"dataframe\">\n",
       "    <thead>\n",
       "        <tr>\n",
       "            <th>geo</th> <th>poverty_percent</th> <th>population_total</th> <th>poverty_total</th>\n",
       "        </tr>\n",
       "    </thead>\n",
       "    <tbody>\n",
       "        <tr>\n",
       "            <td>ago </td> <td>43.37          </td> <td>21219954        </td> <td>9.20309e+06  </td>\n",
       "        </tr>\n",
       "        <tr>\n",
       "            <td>alb </td> <td>0.46           </td> <td>2901883         </td> <td>13349        </td>\n",
       "        </tr>\n",
       "        <tr>\n",
       "            <td>arg </td> <td>1.41           </td> <td>41222875        </td> <td>581243       </td>\n",
       "        </tr>\n",
       "        <tr>\n",
       "            <td>arm </td> <td>1.75           </td> <td>2963496         </td> <td>51861        </td>\n",
       "        </tr>\n",
       "        <tr>\n",
       "            <td>aus </td> <td>1.36           </td> <td>22162863        </td> <td>301415       </td>\n",
       "        </tr>\n",
       "        <tr>\n",
       "            <td>aut </td> <td>0.34           </td> <td>8391986         </td> <td>28533        </td>\n",
       "        </tr>\n",
       "        <tr>\n",
       "            <td>aze </td> <td>0.31           </td> <td>9099893         </td> <td>28210        </td>\n",
       "        </tr>\n",
       "        <tr>\n",
       "            <td>bdi </td> <td>81.32          </td> <td>9461117         </td> <td>7.69378e+06  </td>\n",
       "        </tr>\n",
       "        <tr>\n",
       "            <td>bel </td> <td>0.5            </td> <td>10929978        </td> <td>54650        </td>\n",
       "        </tr>\n",
       "        <tr>\n",
       "            <td>ben </td> <td>51.61          </td> <td>9509798         </td> <td>4.90801e+06  </td>\n",
       "        </tr>\n",
       "    </tbody>\n",
       "</table>\n",
       "<p>... (135 rows omitted)</p>"
      ],
      "text/plain": [
       "geo  | poverty_percent | population_total | poverty_total\n",
       "ago  | 43.37           | 21219954         | 9.20309e+06\n",
       "alb  | 0.46            | 2901883          | 13349\n",
       "arg  | 1.41            | 41222875         | 581243\n",
       "arm  | 1.75            | 2963496          | 51861\n",
       "aus  | 1.36            | 22162863         | 301415\n",
       "aut  | 0.34            | 8391986          | 28533\n",
       "aze  | 0.31            | 9099893          | 28210\n",
       "bdi  | 81.32           | 9461117          | 7.69378e+06\n",
       "bel  | 0.5             | 10929978         | 54650\n",
       "ben  | 51.61           | 9509798          | 4.90801e+06\n",
       "... (135 rows omitted)"
      ]
     },
     "execution_count": 156,
     "metadata": {},
     "output_type": "execute_result"
    }
   ],
   "source": [
    "poverty_and_pop = latest_poverty.join('geo',population.where('time', are.equal_to(2010)))\n",
    "poverty_total = np.round((poverty_and_pop.column('poverty_percent')*poverty_and_pop.column('population_total'))/100)\n",
    "recent_poverty_total = poverty_and_pop.with_column('poverty_total',poverty_total).drop('time').drop('time_2')\n",
    "recent_poverty_total"
   ]
  },
  {
   "cell_type": "code",
   "execution_count": 157,
   "metadata": {
    "deletable": false,
    "editable": false
   },
   "outputs": [
    {
     "name": "stdout",
     "output_type": "stream",
     "text": [
      "~~~~~~~~~~~~~~~~~~~~~~~~~~~~~~~~~~~~~~~~~~~~~~~~~~~~~~~~~~~~~~~~~~~~~\n",
      "Running tests\n",
      "\n",
      "---------------------------------------------------------------------\n",
      "Test summary\n",
      "    Passed: 3\n",
      "    Failed: 0\n",
      "[ooooooooook] 100.0% passed\n",
      "\n"
     ]
    }
   ],
   "source": [
    "ok.grade(\"q2_2\");"
   ]
  },
  {
   "cell_type": "markdown",
   "metadata": {
    "deletable": false,
    "editable": false
   },
   "source": [
    "**Question 3.** Assign the name `poverty_percent` to the known percentage of the world’s 2010 population that were living in extreme poverty. Assume that the `poverty_total` numbers in the `recent_poverty_total` table describe **all** people in 2010 living in extreme poverty. You should find a number that is above the 2018 global estimate of 8%, since many country-specific poverty rates are older than 2018.\n",
    "\n",
    "*Hint*: The sum of the `population_total` column in the `recent_poverty_total` table is not the world population, because only a subset of the world's countries are included in the `recent_poverty_total` table (only some countries have known poverty rates). Use the `population` table to compute the world's 2010 total population..\n",
    "\n",
    "<!--\n",
    "BEGIN QUESTION\n",
    "name: q2_3\n",
    "-->"
   ]
  },
  {
   "cell_type": "code",
   "execution_count": 158,
   "metadata": {
    "deletable": false
   },
   "outputs": [
    {
     "data": {
      "text/plain": [
       "14.299370218520854"
      ]
     },
     "execution_count": 158,
     "metadata": {},
     "output_type": "execute_result"
    }
   ],
   "source": [
    "world_pop_2010 = sum(population.where('time',are.equal_to(2010)).column('population_total'))\n",
    "poverty_percent = (sum(recent_poverty_total.column('poverty_total'))/world_pop_2010)*100\n",
    "poverty_percent"
   ]
  },
  {
   "cell_type": "code",
   "execution_count": 159,
   "metadata": {
    "deletable": false,
    "editable": false
   },
   "outputs": [
    {
     "name": "stdout",
     "output_type": "stream",
     "text": [
      "~~~~~~~~~~~~~~~~~~~~~~~~~~~~~~~~~~~~~~~~~~~~~~~~~~~~~~~~~~~~~~~~~~~~~\n",
      "Running tests\n",
      "\n",
      "---------------------------------------------------------------------\n",
      "Test summary\n",
      "    Passed: 1\n",
      "    Failed: 0\n",
      "[ooooooooook] 100.0% passed\n",
      "\n"
     ]
    }
   ],
   "source": [
    "ok.grade(\"q2_3\");"
   ]
  },
  {
   "cell_type": "markdown",
   "metadata": {
    "deletable": false,
    "editable": false
   },
   "source": [
    "The `countries` table includes not only the name and region of countries, but also their positions on the globe."
   ]
  },
  {
   "cell_type": "code",
   "execution_count": 160,
   "metadata": {
    "deletable": false,
    "editable": false
   },
   "outputs": [
    {
     "data": {
      "text/html": [
       "<table border=\"1\" class=\"dataframe\">\n",
       "    <thead>\n",
       "        <tr>\n",
       "            <th>country</th> <th>name</th> <th>world_4region</th> <th>latitude</th> <th>longitude</th>\n",
       "        </tr>\n",
       "    </thead>\n",
       "    <tbody>\n",
       "        <tr>\n",
       "            <td>afg      </td> <td>Afghanistan          </td> <td>asia         </td> <td>33      </td> <td>66       </td>\n",
       "        </tr>\n",
       "        <tr>\n",
       "            <td>akr_a_dhe</td> <td>Akrotiri and Dhekelia</td> <td>europe       </td> <td>nan     </td> <td>nan      </td>\n",
       "        </tr>\n",
       "        <tr>\n",
       "            <td>alb      </td> <td>Albania              </td> <td>europe       </td> <td>41      </td> <td>20       </td>\n",
       "        </tr>\n",
       "        <tr>\n",
       "            <td>dza      </td> <td>Algeria              </td> <td>africa       </td> <td>28      </td> <td>3        </td>\n",
       "        </tr>\n",
       "        <tr>\n",
       "            <td>asm      </td> <td>American Samoa       </td> <td>asia         </td> <td>-11.056 </td> <td>-171.082 </td>\n",
       "        </tr>\n",
       "        <tr>\n",
       "            <td>and      </td> <td>Andorra              </td> <td>europe       </td> <td>42.5078 </td> <td>1.52109  </td>\n",
       "        </tr>\n",
       "        <tr>\n",
       "            <td>ago      </td> <td>Angola               </td> <td>africa       </td> <td>-12.5   </td> <td>18.5     </td>\n",
       "        </tr>\n",
       "        <tr>\n",
       "            <td>aia      </td> <td>Anguilla             </td> <td>americas     </td> <td>18.2167 </td> <td>-63.05   </td>\n",
       "        </tr>\n",
       "        <tr>\n",
       "            <td>atg      </td> <td>Antigua and Barbuda  </td> <td>americas     </td> <td>17.05   </td> <td>-61.8    </td>\n",
       "        </tr>\n",
       "        <tr>\n",
       "            <td>arg      </td> <td>Argentina            </td> <td>americas     </td> <td>-34     </td> <td>-64      </td>\n",
       "        </tr>\n",
       "    </tbody>\n",
       "</table>\n",
       "<p>... (245 rows omitted)</p>"
      ],
      "text/plain": [
       "country   | name                  | world_4region | latitude | longitude\n",
       "afg       | Afghanistan           | asia          | 33       | 66\n",
       "akr_a_dhe | Akrotiri and Dhekelia | europe        | nan      | nan\n",
       "alb       | Albania               | europe        | 41       | 20\n",
       "dza       | Algeria               | africa        | 28       | 3\n",
       "asm       | American Samoa        | asia          | -11.056  | -171.082\n",
       "and       | Andorra               | europe        | 42.5078  | 1.52109\n",
       "ago       | Angola                | africa        | -12.5    | 18.5\n",
       "aia       | Anguilla              | americas      | 18.2167  | -63.05\n",
       "atg       | Antigua and Barbuda   | americas      | 17.05    | -61.8\n",
       "arg       | Argentina             | americas      | -34      | -64\n",
       "... (245 rows omitted)"
      ]
     },
     "execution_count": 160,
     "metadata": {},
     "output_type": "execute_result"
    }
   ],
   "source": [
    "countries.select('country', 'name', 'world_4region', 'latitude', 'longitude')"
   ]
  },
  {
   "cell_type": "markdown",
   "metadata": {
    "deletable": false,
    "editable": false
   },
   "source": [
    "**Question 4.** Using both `countries` and `recent_poverty_total`, create a five-column table called `poverty_map` with one row for every country in `recent_poverty_total`.  The five columns should have the following labels and contents:\n",
    "1. `latitude` contains the country's latitude,\n",
    "1. `longitude` contains the country's longitude,\n",
    "1. `name` contains the country's name,\n",
    "1. `region` contains the country's region from the `world_4region` column of `countries`,\n",
    "1. `poverty_total` contains the country's poverty total.\n",
    "\n",
    "<!--\n",
    "BEGIN QUESTION\n",
    "name: q2_4\n",
    "-->"
   ]
  },
  {
   "cell_type": "code",
   "execution_count": 161,
   "metadata": {
    "deletable": false
   },
   "outputs": [
    {
     "data": {
      "text/html": [
       "<table border=\"1\" class=\"dataframe\">\n",
       "    <thead>\n",
       "        <tr>\n",
       "            <th>latitude</th> <th>longitude</th> <th>name</th> <th>region</th> <th>poverty_total</th>\n",
       "        </tr>\n",
       "    </thead>\n",
       "    <tbody>\n",
       "        <tr>\n",
       "            <td>-12.5   </td> <td>18.5     </td> <td>Angola    </td> <td>africa  </td> <td>9.20309e+06  </td>\n",
       "        </tr>\n",
       "        <tr>\n",
       "            <td>41      </td> <td>20       </td> <td>Albania   </td> <td>europe  </td> <td>13349        </td>\n",
       "        </tr>\n",
       "        <tr>\n",
       "            <td>-34     </td> <td>-64      </td> <td>Argentina </td> <td>americas</td> <td>581243       </td>\n",
       "        </tr>\n",
       "        <tr>\n",
       "            <td>40.25   </td> <td>45       </td> <td>Armenia   </td> <td>europe  </td> <td>51861        </td>\n",
       "        </tr>\n",
       "        <tr>\n",
       "            <td>-25     </td> <td>135      </td> <td>Australia </td> <td>asia    </td> <td>301415       </td>\n",
       "        </tr>\n",
       "        <tr>\n",
       "            <td>47.3333 </td> <td>13.3333  </td> <td>Austria   </td> <td>europe  </td> <td>28533        </td>\n",
       "        </tr>\n",
       "        <tr>\n",
       "            <td>40.5    </td> <td>47.5     </td> <td>Azerbaijan</td> <td>europe  </td> <td>28210        </td>\n",
       "        </tr>\n",
       "        <tr>\n",
       "            <td>-3.5    </td> <td>30       </td> <td>Burundi   </td> <td>africa  </td> <td>7.69378e+06  </td>\n",
       "        </tr>\n",
       "        <tr>\n",
       "            <td>50.75   </td> <td>4.5      </td> <td>Belgium   </td> <td>europe  </td> <td>54650        </td>\n",
       "        </tr>\n",
       "        <tr>\n",
       "            <td>9.5     </td> <td>2.25     </td> <td>Benin     </td> <td>africa  </td> <td>4.90801e+06  </td>\n",
       "        </tr>\n",
       "    </tbody>\n",
       "</table>\n",
       "<p>... (135 rows omitted)</p>"
      ],
      "text/plain": [
       "latitude | longitude | name       | region   | poverty_total\n",
       "-12.5    | 18.5      | Angola     | africa   | 9.20309e+06\n",
       "41       | 20        | Albania    | europe   | 13349\n",
       "-34      | -64       | Argentina  | americas | 581243\n",
       "40.25    | 45        | Armenia    | europe   | 51861\n",
       "-25      | 135       | Australia  | asia     | 301415\n",
       "47.3333  | 13.3333   | Austria    | europe   | 28533\n",
       "40.5     | 47.5      | Azerbaijan | europe   | 28210\n",
       "-3.5     | 30        | Burundi    | africa   | 7.69378e+06\n",
       "50.75    | 4.5       | Belgium    | europe   | 54650\n",
       "9.5      | 2.25      | Benin      | africa   | 4.90801e+06\n",
       "... (135 rows omitted)"
      ]
     },
     "execution_count": 161,
     "metadata": {},
     "output_type": "execute_result"
    }
   ],
   "source": [
    "poverty_map = countries.join('country',recent_poverty_total,'geo').select('latitude','longitude','name','world_4region','poverty_total').relabel('world_4region','region')\n",
    "poverty_map"
   ]
  },
  {
   "cell_type": "code",
   "execution_count": 162,
   "metadata": {
    "deletable": false,
    "editable": false
   },
   "outputs": [
    {
     "name": "stdout",
     "output_type": "stream",
     "text": [
      "~~~~~~~~~~~~~~~~~~~~~~~~~~~~~~~~~~~~~~~~~~~~~~~~~~~~~~~~~~~~~~~~~~~~~\n",
      "Running tests\n",
      "\n",
      "---------------------------------------------------------------------\n",
      "Test summary\n",
      "    Passed: 2\n",
      "    Failed: 0\n",
      "[ooooooooook] 100.0% passed\n",
      "\n"
     ]
    }
   ],
   "source": [
    "ok.grade(\"q2_4\");"
   ]
  },
  {
   "cell_type": "markdown",
   "metadata": {
    "deletable": false,
    "editable": false
   },
   "source": [
    "Run the cell below to draw a map of the world in which the areas of circles represent the number of people living in extreme poverty. Double-click on the map to zoom in."
   ]
  },
  {
   "cell_type": "code",
   "execution_count": 163,
   "metadata": {
    "deletable": false,
    "editable": false
   },
   "outputs": [
    {
     "data": {
      "text/html": [
       "<div style=\"width:100%;\"><div style=\"position:relative;width:100%;height:0;padding-bottom:60%;\"><iframe src=\"data:text/html;charset=utf-8;base64,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\" style=\"position:absolute;width:100%;height:100%;left:0;top:0;border:none !important;\" allowfullscreen webkitallowfullscreen mozallowfullscreen></iframe></div></div>"
      ],
      "text/plain": [
       "<datascience.maps.Map at 0x7fbe101a8748>"
      ]
     },
     "execution_count": 163,
     "metadata": {},
     "output_type": "execute_result"
    }
   ],
   "source": [
    "# It may take a few seconds to generate this map.\n",
    "colors = {'africa': 'blue', 'europe': 'black', 'asia': 'red', 'americas': 'green'}\n",
    "scaled = poverty_map.with_columns(\n",
    "    'poverty_total', 1e-4 * poverty_map.column('poverty_total'),\n",
    "    'region', poverty_map.apply(colors.get, 'region')\n",
    ")\n",
    "Circle.map_table(scaled)"
   ]
  },
  {
   "cell_type": "markdown",
   "metadata": {
    "deletable": false,
    "editable": false
   },
   "source": [
    "Although people live in extreme poverty throughout the world (with more than 5 million in the United States), the largest numbers are in Asia and Africa."
   ]
  },
  {
   "cell_type": "markdown",
   "metadata": {
    "deletable": false,
    "editable": false
   },
   "source": [
    "**Question 5.** Assign `largest` to a two-column table with the `name` (not the 3-letter code) and `poverty_total` of the 10 countries with the largest number of people living in extreme poverty.\n",
    "\n",
    "<!--\n",
    "BEGIN QUESTION\n",
    "name: q2_5\n",
    "-->"
   ]
  },
  {
   "cell_type": "code",
   "execution_count": 164,
   "metadata": {
    "deletable": false
   },
   "outputs": [
    {
     "data": {
      "text/html": [
       "<table border=\"1\" class=\"dataframe\">\n",
       "    <thead>\n",
       "        <tr>\n",
       "            <th>name</th> <th>poverty_total</th>\n",
       "        </tr>\n",
       "    </thead>\n",
       "    <tbody>\n",
       "        <tr>\n",
       "            <td>India           </td> <td>290,881,638.00</td>\n",
       "        </tr>\n",
       "        <tr>\n",
       "            <td>Nigeria         </td> <td>98,891,167.00 </td>\n",
       "        </tr>\n",
       "        <tr>\n",
       "            <td>China           </td> <td>83,944,643.00 </td>\n",
       "        </tr>\n",
       "        <tr>\n",
       "            <td>Bangladesh      </td> <td>65,574,256.00 </td>\n",
       "        </tr>\n",
       "        <tr>\n",
       "            <td>Congo, Dem. Rep.</td> <td>57,841,438.00 </td>\n",
       "        </tr>\n",
       "        <tr>\n",
       "            <td>Indonesia       </td> <td>39,141,326.00 </td>\n",
       "        </tr>\n",
       "        <tr>\n",
       "            <td>Ethiopia        </td> <td>32,213,991.00 </td>\n",
       "        </tr>\n",
       "        <tr>\n",
       "            <td>Pakistan        </td> <td>21,663,595.00 </td>\n",
       "        </tr>\n",
       "        <tr>\n",
       "            <td>Tanzania        </td> <td>19,847,979.00 </td>\n",
       "        </tr>\n",
       "        <tr>\n",
       "            <td>Madagascar      </td> <td>18,480,426.00 </td>\n",
       "        </tr>\n",
       "    </tbody>\n",
       "</table>"
      ],
      "text/plain": [
       "name             | poverty_total\n",
       "India            | 290,881,638.00\n",
       "Nigeria          | 98,891,167.00\n",
       "China            | 83,944,643.00\n",
       "Bangladesh       | 65,574,256.00\n",
       "Congo, Dem. Rep. | 57,841,438.00\n",
       "Indonesia        | 39,141,326.00\n",
       "Ethiopia         | 32,213,991.00\n",
       "Pakistan         | 21,663,595.00\n",
       "Tanzania         | 19,847,979.00\n",
       "Madagascar       | 18,480,426.00"
      ]
     },
     "execution_count": 164,
     "metadata": {},
     "output_type": "execute_result"
    }
   ],
   "source": [
    "largest = poverty_map.sort('poverty_total',descending=True).select('name','poverty_total').take(np.arange(0,10))\n",
    "largest.set_format('poverty_total', NumberFormatter)"
   ]
  },
  {
   "cell_type": "code",
   "execution_count": 165,
   "metadata": {
    "deletable": false,
    "editable": false
   },
   "outputs": [
    {
     "name": "stdout",
     "output_type": "stream",
     "text": [
      "~~~~~~~~~~~~~~~~~~~~~~~~~~~~~~~~~~~~~~~~~~~~~~~~~~~~~~~~~~~~~~~~~~~~~\n",
      "Running tests\n",
      "\n",
      "---------------------------------------------------------------------\n",
      "Test summary\n",
      "    Passed: 3\n",
      "    Failed: 0\n",
      "[ooooooooook] 100.0% passed\n",
      "\n"
     ]
    }
   ],
   "source": [
    "ok.grade(\"q2_5\");"
   ]
  },
  {
   "cell_type": "markdown",
   "metadata": {
    "deletable": false
   },
   "source": [
    "**Question 6.** Write a function called `poverty_timeline` that takes **the name of a country** as its argument. It should draw a line plot of the number of people living in poverty in that country with time on the horizontal axis. The line plot should have a point for each row in the `poverty` table for that country. To compute the population living in poverty from a poverty percentage, multiply by the population of the country **in that year**.\n",
    "\n",
    "*Hint:* This question is long. Feel free to create cells and experiment. "
   ]
  },
  {
   "cell_type": "code",
   "execution_count": 197,
   "metadata": {},
   "outputs": [],
   "source": [
    "def poverty_timeline(country):\n",
    "    geo = countries.select('country','name').where('name',are.equal_to(country)).column('country').item(0)\n",
    "    countries_in_poverty = poverty.where('geo',are.equal_to(geo))\n",
    "    countryPop = population.where('geo',are.equal_to(geo)).where('time',are.contained_in(countries_in_poverty.column('time')))\n",
    "    pop_pov = countries_in_poverty.column('extreme_poverty_percent_people_below_125_a_day')*countryPop.column('population_total')\n",
    "    final_table = countryPop.with_column('pop',pop_pov)\n",
    "    return final_table.plot('time','pop')\n",
    "# This solution will take multiple lines of code. Use as many as you need"
   ]
  },
  {
   "cell_type": "markdown",
   "metadata": {
    "deletable": false,
    "editable": false
   },
   "source": [
    "Finally, draw the timelines below to see how the world is changing. You can check your work by comparing your graphs to the ones on [gapminder.org](https://www.gapminder.org/tools/#$state$entities$show$country$/$in@=ind;;;;&marker$axis_y$which=number_of_people_in_poverty&scaleType=linear&spaceRef:null;;;&chart-type=linechart).\n",
    "\n",
    "<!--\n",
    "BEGIN QUESTION\n",
    "name: q2_6\n",
    "manual: true\n",
    "-->\n",
    "<!-- EXPORT TO PDF -->"
   ]
  },
  {
   "cell_type": "code",
   "execution_count": 198,
   "metadata": {
    "export_pdf": true
   },
   "outputs": [
    {
     "data": {
      "image/png": "[encoded data removed]",
      "text/plain": [
       "<Figure size 432x288 with 1 Axes>"
      ]
     },
     "metadata": {},
     "output_type": "display_data"
    },
    {
     "data": {
      "image/png": "[encoded data removed]",
      "text/plain": [
       "<Figure size 432x288 with 1 Axes>"
      ]
     },
     "metadata": {},
     "output_type": "display_data"
    },
    {
     "data": {
      "image/png": "[encoded data removed]",
      "text/plain": [
       "<Figure size 432x288 with 1 Axes>"
      ]
     },
     "metadata": {},
     "output_type": "display_data"
    },
    {
     "data": {
      "image/png": "[encoded data removed]",
      "text/plain": [
       "<Figure size 432x288 with 1 Axes>"
      ]
     },
     "metadata": {},
     "output_type": "display_data"
    }
   ],
   "source": [
    "poverty_timeline('India')\n",
    "poverty_timeline('Nigeria')\n",
    "poverty_timeline('China')\n",
    "poverty_timeline('United States')"
   ]
  },
  {
   "cell_type": "markdown",
   "metadata": {
    "deletable": false,
    "editable": false
   },
   "source": [
    "Although the number of people living in extreme poverty has been increasing in Nigeria and the United States, the massive decreases in China and India have shaped the overall trend that extreme poverty is decreasing worldwide, both in percentage and in absolute number. \n",
    "\n",
    "To learn more, watch [Hans Rosling in a 2015 film](https://www.gapminder.org/videos/dont-panic-end-poverty/) about the UN goal of eradicating extreme poverty from the world. \n",
    "\n",
    "Below, we've also added an interactive dropdown menu for you to visualize `poverty_timeline` graphs for other countries. Note that each dropdown menu selection may take a few seconds to run."
   ]
  },
  {
   "cell_type": "code",
   "execution_count": 183,
   "metadata": {
    "deletable": false,
    "editable": false
   },
   "outputs": [
    {
     "data": {
      "application/vnd.jupyter.widget-view+json": {
       "model_id": "50c8fdec5319472da0abd8c876a792f6",
       "version_major": 2,
       "version_minor": 0
      },
      "text/plain": [
       "interactive(children=(Dropdown(description='country', options=('Angola', 'Albania', 'Argentina', 'Armenia', 'A…"
      ]
     },
     "metadata": {},
     "output_type": "display_data"
    }
   ],
   "source": [
    "# Just run this cell\n",
    "\n",
    "all_countries = poverty_map.column('name')\n",
    "_ = widgets.interact(poverty_timeline, country=list(all_countries))"
   ]
  },
  {
   "cell_type": "markdown",
   "metadata": {
    "deletable": false,
    "editable": false
   },
   "source": [
    "**You're finished!** Congratulations on mastering data visualization and table manipulation. Time to submit."
   ]
  },
  {
   "cell_type": "markdown",
   "metadata": {},
   "source": [
    "## 3. Submission\n"
   ]
  },
  {
   "cell_type": "markdown",
   "metadata": {
    "collapsed": true
   },
   "source": [
    "Once you're finished, select \"Save and Checkpoint\" in the File menu and then execute the `submit` cell below. The result will contain a link that you can use to check that your assignment has been submitted successfully. If you submit more than once before the deadline, we will only grade your final submission. If you mistakenly submit the wrong one, you can head to [okpy.org](https://okpy.org/) and flag the correct version. To do so, go to the website, click on this assignment, and find the version you would like to have graded. There should be an option to flag that submission for grading!"
   ]
  },
  {
   "cell_type": "code",
   "execution_count": null,
   "metadata": {},
   "outputs": [
    {
     "data": {
      "application/javascript": [
       "IPython.notebook.save_checkpoint();"
      ],
      "text/plain": [
       "<IPython.core.display.Javascript object>"
      ]
     },
     "metadata": {},
     "output_type": "display_data"
    }
   ],
   "source": [
    "_ = ok.submit()"
   ]
  },
  {
   "cell_type": "code",
   "execution_count": 201,
   "metadata": {},
   "outputs": [
    {
     "name": "stdout",
     "output_type": "stream",
     "text": [
      "Running all tests...\n",
      "~~~~~~~~~~~~~~~~~~~~~~~~~~~~~~~~~~~~~~~~~~~~~~~~~~~~~~~~~~~~~~~~~~~~~\n",
      "Running tests\n",
      "\n",
      "---------------------------------------------------------------------\n",
      "Test summary\n",
      "    Passed: 2\n",
      "    Failed: 0\n",
      "[ooooooooook] 100.0% passed\n",
      "\n",
      "~~~~~~~~~~~~~~~~~~~~~~~~~~~~~~~~~~~~~~~~~~~~~~~~~~~~~~~~~~~~~~~~~~~~~\n",
      "Running tests\n",
      "\n",
      "---------------------------------------------------------------------\n",
      "Test summary\n",
      "    Passed: 3\n",
      "    Failed: 0\n",
      "[ooooooooook] 100.0% passed\n",
      "\n",
      "~~~~~~~~~~~~~~~~~~~~~~~~~~~~~~~~~~~~~~~~~~~~~~~~~~~~~~~~~~~~~~~~~~~~~\n",
      "Running tests\n",
      "\n",
      "---------------------------------------------------------------------\n",
      "Test summary\n",
      "    Passed: 2\n",
      "    Failed: 0\n",
      "[ooooooooook] 100.0% passed\n",
      "\n",
      "~~~~~~~~~~~~~~~~~~~~~~~~~~~~~~~~~~~~~~~~~~~~~~~~~~~~~~~~~~~~~~~~~~~~~\n",
      "Running tests\n",
      "\n",
      "---------------------------------------------------------------------\n",
      "Test summary\n",
      "    Passed: 2\n",
      "    Failed: 0\n",
      "[ooooooooook] 100.0% passed\n",
      "\n",
      "~~~~~~~~~~~~~~~~~~~~~~~~~~~~~~~~~~~~~~~~~~~~~~~~~~~~~~~~~~~~~~~~~~~~~\n",
      "Running tests\n",
      "\n",
      "---------------------------------------------------------------------\n",
      "Test summary\n",
      "    Passed: 3\n",
      "    Failed: 0\n",
      "[ooooooooook] 100.0% passed\n",
      "\n",
      "~~~~~~~~~~~~~~~~~~~~~~~~~~~~~~~~~~~~~~~~~~~~~~~~~~~~~~~~~~~~~~~~~~~~~\n",
      "Running tests\n",
      "\n",
      "---------------------------------------------------------------------\n",
      "Test summary\n",
      "    Passed: 3\n",
      "    Failed: 0\n",
      "[ooooooooook] 100.0% passed\n",
      "\n",
      "~~~~~~~~~~~~~~~~~~~~~~~~~~~~~~~~~~~~~~~~~~~~~~~~~~~~~~~~~~~~~~~~~~~~~\n",
      "Running tests\n",
      "\n",
      "---------------------------------------------------------------------\n",
      "Test summary\n",
      "    Passed: 1\n",
      "    Failed: 0\n",
      "[ooooooooook] 100.0% passed\n",
      "\n",
      "~~~~~~~~~~~~~~~~~~~~~~~~~~~~~~~~~~~~~~~~~~~~~~~~~~~~~~~~~~~~~~~~~~~~~\n",
      "Running tests\n",
      "\n",
      "---------------------------------------------------------------------\n",
      "Test summary\n",
      "    Passed: 2\n",
      "    Failed: 0\n",
      "[ooooooooook] 100.0% passed\n",
      "\n",
      "~~~~~~~~~~~~~~~~~~~~~~~~~~~~~~~~~~~~~~~~~~~~~~~~~~~~~~~~~~~~~~~~~~~~~\n",
      "Running tests\n",
      "\n",
      "---------------------------------------------------------------------\n",
      "Test summary\n",
      "    Passed: 1\n",
      "    Failed: 0\n",
      "[ooooooooook] 100.0% passed\n",
      "\n",
      "~~~~~~~~~~~~~~~~~~~~~~~~~~~~~~~~~~~~~~~~~~~~~~~~~~~~~~~~~~~~~~~~~~~~~\n",
      "Running tests\n",
      "\n",
      "---------------------------------------------------------------------\n",
      "Test summary\n",
      "    Passed: 2\n",
      "    Failed: 0\n",
      "[ooooooooook] 100.0% passed\n",
      "\n",
      "~~~~~~~~~~~~~~~~~~~~~~~~~~~~~~~~~~~~~~~~~~~~~~~~~~~~~~~~~~~~~~~~~~~~~\n",
      "Running tests\n",
      "\n",
      "---------------------------------------------------------------------\n",
      "Test summary\n",
      "    Passed: 3\n",
      "    Failed: 0\n",
      "[ooooooooook] 100.0% passed\n",
      "\n",
      "~~~~~~~~~~~~~~~~~~~~~~~~~~~~~~~~~~~~~~~~~~~~~~~~~~~~~~~~~~~~~~~~~~~~~\n",
      "Running tests\n",
      "\n",
      "---------------------------------------------------------------------\n",
      "Test summary\n",
      "    Passed: 4\n",
      "    Failed: 0\n",
      "[ooooooooook] 100.0% passed\n",
      "\n",
      "~~~~~~~~~~~~~~~~~~~~~~~~~~~~~~~~~~~~~~~~~~~~~~~~~~~~~~~~~~~~~~~~~~~~~\n",
      "Running tests\n",
      "\n",
      "---------------------------------------------------------------------\n",
      "Test summary\n",
      "    Passed: 2\n",
      "    Failed: 0\n",
      "[ooooooooook] 100.0% passed\n",
      "\n",
      "~~~~~~~~~~~~~~~~~~~~~~~~~~~~~~~~~~~~~~~~~~~~~~~~~~~~~~~~~~~~~~~~~~~~~\n",
      "Running tests\n",
      "\n",
      "---------------------------------------------------------------------\n",
      "Test summary\n",
      "    Passed: 1\n",
      "    Failed: 0\n",
      "[ooooooooook] 100.0% passed\n",
      "\n",
      "~~~~~~~~~~~~~~~~~~~~~~~~~~~~~~~~~~~~~~~~~~~~~~~~~~~~~~~~~~~~~~~~~~~~~\n",
      "Running tests\n",
      "\n",
      "---------------------------------------------------------------------\n",
      "Test summary\n",
      "    Passed: 2\n",
      "    Failed: 0\n",
      "[ooooooooook] 100.0% passed\n",
      "\n",
      "Finished running all tests.\n"
     ]
    }
   ],
   "source": [
    "# For your convenience, you can run this cell to run all the tests at once!\n",
    "import os\n",
    "print(\"Running all tests...\")\n",
    "_ = [ok.grade(q[:-3]) for q in os.listdir(\"tests\") if q.startswith('q') and len(q) <= 10]\n",
    "print(\"Finished running all tests.\")"
   ]
  },
  {
   "cell_type": "code",
   "execution_count": null,
   "metadata": {},
   "outputs": [],
   "source": []
  }
 ],
 "metadata": {
  "kernelspec": {
   "display_name": "Python 3",
   "language": "python",
   "name": "python3"
  },
  "language_info": {
   "codemirror_mode": {
    "name": "ipython",
    "version": 3
   },
   "file_extension": ".py",
   "mimetype": "text/x-python",
   "name": "python",
   "nbconvert_exporter": "python",
   "pygments_lexer": "ipython3",
   "version": "3.6.8"
  }
 },
 "nbformat": 4,
 "nbformat_minor": 1
}
